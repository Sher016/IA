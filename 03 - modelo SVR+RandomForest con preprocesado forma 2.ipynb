{
 "cells": [
  {
   "cell_type": "markdown",
   "metadata": {
    "id": "Lu5-mP9V5S2V"
   },
   "source": [
    "#**ANDRES BANQUEZ CABARCAS**\n",
    "**1001021432**\n",
    "\n",
    "#**SHERLYN ANDREA GUZMAN**\n",
    "**1007869053**\n"
   ]
  },
  {
   "cell_type": "code",
   "execution_count": null,
   "metadata": {},
   "outputs": [],
   "source": []
  },
  {
   "cell_type": "markdown",
   "metadata": {},
   "source": []
  },
  {
   "cell_type": "code",
   "execution_count": 1,
   "metadata": {
    "id": "A2q5Ymf6Yh5o"
   },
   "outputs": [],
   "source": [
    "import numpy as np\n",
    "import pandas as pd\n",
    "import matplotlib.pyplot as plt\n",
    "import seaborn as sns\n",
    "from sklearn.preprocessing import MinMaxScaler"
   ]
  },
  {
   "cell_type": "markdown",
   "metadata": {
    "id": "ar6sBCJnZxq8"
   },
   "source": [
    "Cargamos el dataset train.csv"
   ]
  },
  {
   "cell_type": "code",
   "execution_count": 2,
   "metadata": {
    "colab": {
     "base_uri": "https://localhost:8080/",
     "height": 313
    },
    "id": "le2LGKCWYz-9",
    "outputId": "3108a930-6121-4778-828e-409ae11c4bbd"
   },
   "outputs": [
    {
     "data": {
      "text/html": [
       "<div>\n",
       "<style scoped>\n",
       "    .dataframe tbody tr th:only-of-type {\n",
       "        vertical-align: middle;\n",
       "    }\n",
       "\n",
       "    .dataframe tbody tr th {\n",
       "        vertical-align: top;\n",
       "    }\n",
       "\n",
       "    .dataframe thead th {\n",
       "        text-align: right;\n",
       "    }\n",
       "</style>\n",
       "<table border=\"1\" class=\"dataframe\">\n",
       "  <thead>\n",
       "    <tr style=\"text-align: right;\">\n",
       "      <th></th>\n",
       "      <th>ID</th>\n",
       "      <th>PERIODO</th>\n",
       "      <th>ESTU_PRGM_ACADEMICO</th>\n",
       "      <th>ESTU_PRGM_DEPARTAMENTO</th>\n",
       "      <th>ESTU_VALORMATRICULAUNIVERSIDAD</th>\n",
       "      <th>ESTU_HORASSEMANATRABAJA</th>\n",
       "      <th>FAMI_ESTRATOVIVIENDA</th>\n",
       "      <th>FAMI_TIENEINTERNET</th>\n",
       "      <th>FAMI_EDUCACIONPADRE</th>\n",
       "      <th>FAMI_EDUCACIONMADRE</th>\n",
       "      <th>ESTU_PAGOMATRICULAPROPIO</th>\n",
       "      <th>RENDIMIENTO_GLOBAL</th>\n",
       "    </tr>\n",
       "  </thead>\n",
       "  <tbody>\n",
       "    <tr>\n",
       "      <th>0</th>\n",
       "      <td>904256</td>\n",
       "      <td>20212</td>\n",
       "      <td>ENFERMERIA</td>\n",
       "      <td>BOGOTÁ</td>\n",
       "      <td>Entre 5.5 millones y menos de 7 millones</td>\n",
       "      <td>Menos de 10 horas</td>\n",
       "      <td>Estrato 3</td>\n",
       "      <td>Si</td>\n",
       "      <td>Técnica o tecnológica incompleta</td>\n",
       "      <td>Postgrado</td>\n",
       "      <td>No</td>\n",
       "      <td>medio-alto</td>\n",
       "    </tr>\n",
       "    <tr>\n",
       "      <th>1</th>\n",
       "      <td>645256</td>\n",
       "      <td>20212</td>\n",
       "      <td>DERECHO</td>\n",
       "      <td>ATLANTICO</td>\n",
       "      <td>Entre 2.5 millones y menos de 4 millones</td>\n",
       "      <td>0</td>\n",
       "      <td>Estrato 3</td>\n",
       "      <td>No</td>\n",
       "      <td>Técnica o tecnológica completa</td>\n",
       "      <td>Técnica o tecnológica incompleta</td>\n",
       "      <td>No</td>\n",
       "      <td>bajo</td>\n",
       "    </tr>\n",
       "    <tr>\n",
       "      <th>2</th>\n",
       "      <td>308367</td>\n",
       "      <td>20203</td>\n",
       "      <td>MERCADEO Y PUBLICIDAD</td>\n",
       "      <td>BOGOTÁ</td>\n",
       "      <td>Entre 2.5 millones y menos de 4 millones</td>\n",
       "      <td>Más de 30 horas</td>\n",
       "      <td>Estrato 3</td>\n",
       "      <td>Si</td>\n",
       "      <td>Secundaria (Bachillerato) completa</td>\n",
       "      <td>Secundaria (Bachillerato) completa</td>\n",
       "      <td>No</td>\n",
       "      <td>bajo</td>\n",
       "    </tr>\n",
       "    <tr>\n",
       "      <th>3</th>\n",
       "      <td>470353</td>\n",
       "      <td>20195</td>\n",
       "      <td>ADMINISTRACION DE EMPRESAS</td>\n",
       "      <td>SANTANDER</td>\n",
       "      <td>Entre 4 millones y menos de 5.5 millones</td>\n",
       "      <td>0</td>\n",
       "      <td>Estrato 4</td>\n",
       "      <td>Si</td>\n",
       "      <td>No sabe</td>\n",
       "      <td>Secundaria (Bachillerato) completa</td>\n",
       "      <td>No</td>\n",
       "      <td>alto</td>\n",
       "    </tr>\n",
       "    <tr>\n",
       "      <th>4</th>\n",
       "      <td>989032</td>\n",
       "      <td>20212</td>\n",
       "      <td>PSICOLOGIA</td>\n",
       "      <td>ANTIOQUIA</td>\n",
       "      <td>Entre 2.5 millones y menos de 4 millones</td>\n",
       "      <td>Entre 21 y 30 horas</td>\n",
       "      <td>Estrato 3</td>\n",
       "      <td>Si</td>\n",
       "      <td>Primaria completa</td>\n",
       "      <td>Primaria completa</td>\n",
       "      <td>No</td>\n",
       "      <td>medio-bajo</td>\n",
       "    </tr>\n",
       "  </tbody>\n",
       "</table>\n",
       "</div>"
      ],
      "text/plain": [
       "       ID  PERIODO         ESTU_PRGM_ACADEMICO ESTU_PRGM_DEPARTAMENTO  \\\n",
       "0  904256    20212                  ENFERMERIA                 BOGOTÁ   \n",
       "1  645256    20212                     DERECHO              ATLANTICO   \n",
       "2  308367    20203       MERCADEO Y PUBLICIDAD                 BOGOTÁ   \n",
       "3  470353    20195  ADMINISTRACION DE EMPRESAS              SANTANDER   \n",
       "4  989032    20212                  PSICOLOGIA              ANTIOQUIA   \n",
       "\n",
       "             ESTU_VALORMATRICULAUNIVERSIDAD ESTU_HORASSEMANATRABAJA  \\\n",
       "0  Entre 5.5 millones y menos de 7 millones       Menos de 10 horas   \n",
       "1  Entre 2.5 millones y menos de 4 millones                       0   \n",
       "2  Entre 2.5 millones y menos de 4 millones         Más de 30 horas   \n",
       "3  Entre 4 millones y menos de 5.5 millones                       0   \n",
       "4  Entre 2.5 millones y menos de 4 millones     Entre 21 y 30 horas   \n",
       "\n",
       "  FAMI_ESTRATOVIVIENDA FAMI_TIENEINTERNET                 FAMI_EDUCACIONPADRE  \\\n",
       "0            Estrato 3                 Si    Técnica o tecnológica incompleta   \n",
       "1            Estrato 3                 No      Técnica o tecnológica completa   \n",
       "2            Estrato 3                 Si  Secundaria (Bachillerato) completa   \n",
       "3            Estrato 4                 Si                             No sabe   \n",
       "4            Estrato 3                 Si                   Primaria completa   \n",
       "\n",
       "                  FAMI_EDUCACIONMADRE ESTU_PAGOMATRICULAPROPIO  \\\n",
       "0                           Postgrado                       No   \n",
       "1    Técnica o tecnológica incompleta                       No   \n",
       "2  Secundaria (Bachillerato) completa                       No   \n",
       "3  Secundaria (Bachillerato) completa                       No   \n",
       "4                   Primaria completa                       No   \n",
       "\n",
       "  RENDIMIENTO_GLOBAL  \n",
       "0         medio-alto  \n",
       "1               bajo  \n",
       "2               bajo  \n",
       "3               alto  \n",
       "4         medio-bajo  "
      ]
     },
     "execution_count": 2,
     "metadata": {},
     "output_type": "execute_result"
    }
   ],
   "source": [
    "train = pd.read_csv('data/train.csv')\n",
    "train.head()"
   ]
  },
  {
   "cell_type": "markdown",
   "metadata": {
    "id": "ul84I6ylZ1Qp"
   },
   "source": [
    "Primero observamos cuantos datos faltantes hay, de manera que podemos manejarlos."
   ]
  },
  {
   "cell_type": "code",
   "execution_count": 3,
   "metadata": {
    "colab": {
     "base_uri": "https://localhost:8080/"
    },
    "id": "FNbJMnZEafyg",
    "outputId": "af7fb8bb-14ed-4d4c-f153-206b9393161b"
   },
   "outputs": [
    {
     "data": {
      "text/plain": [
       "692500"
      ]
     },
     "execution_count": 3,
     "metadata": {},
     "output_type": "execute_result"
    }
   ],
   "source": [
    "train.ID.size"
   ]
  },
  {
   "cell_type": "code",
   "execution_count": 4,
   "metadata": {
    "colab": {
     "base_uri": "https://localhost:8080/",
     "height": 460
    },
    "id": "fKYZPng5Z-XQ",
    "outputId": "9caa13d3-2d66-4c47-a5ff-f6b01dfeae1d"
   },
   "outputs": [
    {
     "data": {
      "text/plain": [
       "ID                                    0\n",
       "PERIODO                               0\n",
       "ESTU_PRGM_ACADEMICO                   0\n",
       "ESTU_PRGM_DEPARTAMENTO                0\n",
       "ESTU_VALORMATRICULAUNIVERSIDAD     6287\n",
       "ESTU_HORASSEMANATRABAJA           30857\n",
       "FAMI_ESTRATOVIVIENDA              32137\n",
       "FAMI_TIENEINTERNET                26629\n",
       "FAMI_EDUCACIONPADRE               23178\n",
       "FAMI_EDUCACIONMADRE               23664\n",
       "ESTU_PAGOMATRICULAPROPIO           6498\n",
       "RENDIMIENTO_GLOBAL                    0\n",
       "dtype: int64"
      ]
     },
     "execution_count": 4,
     "metadata": {},
     "output_type": "execute_result"
    }
   ],
   "source": [
    "train.isnull().sum()"
   ]
  },
  {
   "cell_type": "markdown",
   "metadata": {
    "id": "7mGjrHxEaR-I"
   },
   "source": [
    "Hay que tener en cuenta que son un total de 301468 datos, por lo que igualmente en el peor de los casos 13925 equivale unicamente al 4.61% de los datos, de manera que consideramos que agregar datos no dañara los resultados.\n",
    "\n",
    "En este caso entonces decidimos añadir los datos faltantes en forma de la moda, esto no fue arbitrario sino fue hecho porque los datos son de tipo objeto, por lo que en varios casos realmente no representan un valor numerico."
   ]
  },
  {
   "cell_type": "code",
   "execution_count": 5,
   "metadata": {
    "colab": {
     "base_uri": "https://localhost:8080/",
     "height": 460
    },
    "id": "xDoO8O1gbGcL",
    "outputId": "be524f1c-04dd-4f2b-d330-45ce7cb4648d"
   },
   "outputs": [
    {
     "data": {
      "text/plain": [
       "ID                                0\n",
       "PERIODO                           0\n",
       "ESTU_PRGM_ACADEMICO               0\n",
       "ESTU_PRGM_DEPARTAMENTO            0\n",
       "ESTU_VALORMATRICULAUNIVERSIDAD    0\n",
       "ESTU_HORASSEMANATRABAJA           0\n",
       "FAMI_ESTRATOVIVIENDA              0\n",
       "FAMI_TIENEINTERNET                0\n",
       "FAMI_EDUCACIONPADRE               0\n",
       "FAMI_EDUCACIONMADRE               0\n",
       "ESTU_PAGOMATRICULAPROPIO          0\n",
       "RENDIMIENTO_GLOBAL                0\n",
       "dtype: int64"
      ]
     },
     "execution_count": 5,
     "metadata": {},
     "output_type": "execute_result"
    }
   ],
   "source": [
    "train = train.apply(lambda x: x.fillna(x.value_counts().index[0]))\n",
    "train.isnull().sum()"
   ]
  },
  {
   "cell_type": "markdown",
   "metadata": {
    "id": "_0WBwh2qbgmC"
   },
   "source": [
    "Ahora revisamos cuales son los valores únicos de cada columna"
   ]
  },
  {
   "cell_type": "code",
   "execution_count": 6,
   "metadata": {
    "colab": {
     "base_uri": "https://localhost:8080/",
     "height": 460
    },
    "id": "Y_-c-Wi6biaH",
    "outputId": "b15d81bc-61af-4ca8-b118-5934ab9630e7"
   },
   "outputs": [
    {
     "data": {
      "text/plain": [
       "ID                                692500\n",
       "PERIODO                                9\n",
       "ESTU_PRGM_ACADEMICO                  948\n",
       "ESTU_PRGM_DEPARTAMENTO                31\n",
       "ESTU_VALORMATRICULAUNIVERSIDAD         8\n",
       "ESTU_HORASSEMANATRABAJA                5\n",
       "FAMI_ESTRATOVIVIENDA                   7\n",
       "FAMI_TIENEINTERNET                     2\n",
       "FAMI_EDUCACIONPADRE                   12\n",
       "FAMI_EDUCACIONMADRE                   12\n",
       "ESTU_PAGOMATRICULAPROPIO               2\n",
       "RENDIMIENTO_GLOBAL                     4\n",
       "dtype: int64"
      ]
     },
     "execution_count": 6,
     "metadata": {},
     "output_type": "execute_result"
    }
   ],
   "source": [
    "train.nunique()"
   ]
  },
  {
   "cell_type": "markdown",
   "metadata": {
    "id": "MzE72D7ib8AB"
   },
   "source": [
    "El ID y el periodo podemos no tomarlos en cuenta directamente porque no representan un efecto directo con el rendimiento global."
   ]
  },
  {
   "cell_type": "code",
   "execution_count": 7,
   "metadata": {
    "colab": {
     "base_uri": "https://localhost:8080/",
     "height": 313
    },
    "id": "nzDmbL3wcMOH",
    "outputId": "ef8a50ef-8753-45e4-8b7c-a6779cb4686f"
   },
   "outputs": [
    {
     "data": {
      "text/html": [
       "<div>\n",
       "<style scoped>\n",
       "    .dataframe tbody tr th:only-of-type {\n",
       "        vertical-align: middle;\n",
       "    }\n",
       "\n",
       "    .dataframe tbody tr th {\n",
       "        vertical-align: top;\n",
       "    }\n",
       "\n",
       "    .dataframe thead th {\n",
       "        text-align: right;\n",
       "    }\n",
       "</style>\n",
       "<table border=\"1\" class=\"dataframe\">\n",
       "  <thead>\n",
       "    <tr style=\"text-align: right;\">\n",
       "      <th></th>\n",
       "      <th>ESTU_PRGM_ACADEMICO</th>\n",
       "      <th>ESTU_PRGM_DEPARTAMENTO</th>\n",
       "      <th>ESTU_VALORMATRICULAUNIVERSIDAD</th>\n",
       "      <th>ESTU_HORASSEMANATRABAJA</th>\n",
       "      <th>FAMI_ESTRATOVIVIENDA</th>\n",
       "      <th>FAMI_TIENEINTERNET</th>\n",
       "      <th>FAMI_EDUCACIONPADRE</th>\n",
       "      <th>FAMI_EDUCACIONMADRE</th>\n",
       "      <th>ESTU_PAGOMATRICULAPROPIO</th>\n",
       "      <th>RENDIMIENTO_GLOBAL</th>\n",
       "    </tr>\n",
       "  </thead>\n",
       "  <tbody>\n",
       "    <tr>\n",
       "      <th>0</th>\n",
       "      <td>ENFERMERIA</td>\n",
       "      <td>BOGOTÁ</td>\n",
       "      <td>Entre 5.5 millones y menos de 7 millones</td>\n",
       "      <td>Menos de 10 horas</td>\n",
       "      <td>Estrato 3</td>\n",
       "      <td>Si</td>\n",
       "      <td>Técnica o tecnológica incompleta</td>\n",
       "      <td>Postgrado</td>\n",
       "      <td>No</td>\n",
       "      <td>medio-alto</td>\n",
       "    </tr>\n",
       "    <tr>\n",
       "      <th>1</th>\n",
       "      <td>DERECHO</td>\n",
       "      <td>ATLANTICO</td>\n",
       "      <td>Entre 2.5 millones y menos de 4 millones</td>\n",
       "      <td>0</td>\n",
       "      <td>Estrato 3</td>\n",
       "      <td>No</td>\n",
       "      <td>Técnica o tecnológica completa</td>\n",
       "      <td>Técnica o tecnológica incompleta</td>\n",
       "      <td>No</td>\n",
       "      <td>bajo</td>\n",
       "    </tr>\n",
       "    <tr>\n",
       "      <th>2</th>\n",
       "      <td>MERCADEO Y PUBLICIDAD</td>\n",
       "      <td>BOGOTÁ</td>\n",
       "      <td>Entre 2.5 millones y menos de 4 millones</td>\n",
       "      <td>Más de 30 horas</td>\n",
       "      <td>Estrato 3</td>\n",
       "      <td>Si</td>\n",
       "      <td>Secundaria (Bachillerato) completa</td>\n",
       "      <td>Secundaria (Bachillerato) completa</td>\n",
       "      <td>No</td>\n",
       "      <td>bajo</td>\n",
       "    </tr>\n",
       "    <tr>\n",
       "      <th>3</th>\n",
       "      <td>ADMINISTRACION DE EMPRESAS</td>\n",
       "      <td>SANTANDER</td>\n",
       "      <td>Entre 4 millones y menos de 5.5 millones</td>\n",
       "      <td>0</td>\n",
       "      <td>Estrato 4</td>\n",
       "      <td>Si</td>\n",
       "      <td>No sabe</td>\n",
       "      <td>Secundaria (Bachillerato) completa</td>\n",
       "      <td>No</td>\n",
       "      <td>alto</td>\n",
       "    </tr>\n",
       "    <tr>\n",
       "      <th>4</th>\n",
       "      <td>PSICOLOGIA</td>\n",
       "      <td>ANTIOQUIA</td>\n",
       "      <td>Entre 2.5 millones y menos de 4 millones</td>\n",
       "      <td>Entre 21 y 30 horas</td>\n",
       "      <td>Estrato 3</td>\n",
       "      <td>Si</td>\n",
       "      <td>Primaria completa</td>\n",
       "      <td>Primaria completa</td>\n",
       "      <td>No</td>\n",
       "      <td>medio-bajo</td>\n",
       "    </tr>\n",
       "  </tbody>\n",
       "</table>\n",
       "</div>"
      ],
      "text/plain": [
       "          ESTU_PRGM_ACADEMICO ESTU_PRGM_DEPARTAMENTO  \\\n",
       "0                  ENFERMERIA                 BOGOTÁ   \n",
       "1                     DERECHO              ATLANTICO   \n",
       "2       MERCADEO Y PUBLICIDAD                 BOGOTÁ   \n",
       "3  ADMINISTRACION DE EMPRESAS              SANTANDER   \n",
       "4                  PSICOLOGIA              ANTIOQUIA   \n",
       "\n",
       "             ESTU_VALORMATRICULAUNIVERSIDAD ESTU_HORASSEMANATRABAJA  \\\n",
       "0  Entre 5.5 millones y menos de 7 millones       Menos de 10 horas   \n",
       "1  Entre 2.5 millones y menos de 4 millones                       0   \n",
       "2  Entre 2.5 millones y menos de 4 millones         Más de 30 horas   \n",
       "3  Entre 4 millones y menos de 5.5 millones                       0   \n",
       "4  Entre 2.5 millones y menos de 4 millones     Entre 21 y 30 horas   \n",
       "\n",
       "  FAMI_ESTRATOVIVIENDA FAMI_TIENEINTERNET                 FAMI_EDUCACIONPADRE  \\\n",
       "0            Estrato 3                 Si    Técnica o tecnológica incompleta   \n",
       "1            Estrato 3                 No      Técnica o tecnológica completa   \n",
       "2            Estrato 3                 Si  Secundaria (Bachillerato) completa   \n",
       "3            Estrato 4                 Si                             No sabe   \n",
       "4            Estrato 3                 Si                   Primaria completa   \n",
       "\n",
       "                  FAMI_EDUCACIONMADRE ESTU_PAGOMATRICULAPROPIO  \\\n",
       "0                           Postgrado                       No   \n",
       "1    Técnica o tecnológica incompleta                       No   \n",
       "2  Secundaria (Bachillerato) completa                       No   \n",
       "3  Secundaria (Bachillerato) completa                       No   \n",
       "4                   Primaria completa                       No   \n",
       "\n",
       "  RENDIMIENTO_GLOBAL  \n",
       "0         medio-alto  \n",
       "1               bajo  \n",
       "2               bajo  \n",
       "3               alto  \n",
       "4         medio-bajo  "
      ]
     },
     "execution_count": 7,
     "metadata": {},
     "output_type": "execute_result"
    }
   ],
   "source": [
    "train = train.drop('ID', axis=1)\n",
    "train = train.drop('PERIODO', axis=1)\n",
    "train.head()"
   ]
  },
  {
   "cell_type": "markdown",
   "metadata": {
    "id": "vfifOK7cccqJ"
   },
   "source": [
    "Los valores de matricula universidad los convertimos a numericos ordenandolos de 1 a n de menor a mayor de los gastos de matricula."
   ]
  },
  {
   "cell_type": "code",
   "execution_count": 8,
   "metadata": {
    "colab": {
     "base_uri": "https://localhost:8080/"
    },
    "id": "7hu5Aj_TdQeP",
    "outputId": "e95b0361-193b-4525-e6eb-a708c5a75d3f"
   },
   "outputs": [
    {
     "data": {
      "text/plain": [
       "array(['Entre 5.5 millones y menos de 7 millones',\n",
       "       'Entre 2.5 millones y menos de 4 millones',\n",
       "       'Entre 4 millones y menos de 5.5 millones', 'Más de 7 millones',\n",
       "       'Entre 1 millón y menos de 2.5 millones',\n",
       "       'Entre 500 mil y menos de 1 millón', 'Menos de 500 mil',\n",
       "       'No pagó matrícula'], dtype=object)"
      ]
     },
     "execution_count": 8,
     "metadata": {},
     "output_type": "execute_result"
    }
   ],
   "source": [
    "valores = train.ESTU_VALORMATRICULAUNIVERSIDAD.unique()\n",
    "valores"
   ]
  },
  {
   "cell_type": "code",
   "execution_count": 9,
   "metadata": {
    "colab": {
     "base_uri": "https://localhost:8080/"
    },
    "id": "2jnoSLeBcmQv",
    "outputId": "efe612a7-6ddd-481e-83e6-5f99e0ae590a"
   },
   "outputs": [
    {
     "data": {
      "text/plain": [
       "[5.5, 2.5, 4.0, 7.0, 1.0, 0.5, 0.25, 0]"
      ]
     },
     "execution_count": 9,
     "metadata": {},
     "output_type": "execute_result"
    }
   ],
   "source": [
    "def cambio(x):\n",
    "  try:\n",
    "    newval = x.split(' ')[1]\n",
    "    newval2 = x.split(' ')[2]\n",
    "    newval = float(newval)\n",
    "    if x.split(' ')[2] == 'mil':\n",
    "      newval = newval/1000\n",
    "    return newval\n",
    "  except:\n",
    "    try:\n",
    "      newval = float(newval2)\n",
    "      if x.split(' ')[0] == 'Menos':\n",
    "        newval = .25\n",
    "    except:\n",
    "      return 0\n",
    "    return newval\n",
    "valores2 = list(map(cambio, valores))\n",
    "valores2"
   ]
  },
  {
   "cell_type": "code",
   "execution_count": 10,
   "metadata": {
    "colab": {
     "base_uri": "https://localhost:8080/"
    },
    "id": "k_MlGvsUd_pQ",
    "outputId": "153b1cf7-ab73-470d-98a5-de116ac679d4"
   },
   "outputs": [
    {
     "data": {
      "text/plain": [
       "{'Entre 5.5 millones y menos de 7 millones': 5.5,\n",
       " 'Entre 2.5 millones y menos de 4 millones': 2.5,\n",
       " 'Entre 4 millones y menos de 5.5 millones': 4.0,\n",
       " 'Más de 7 millones': 7.0,\n",
       " 'Entre 1 millón y menos de 2.5 millones': 1.0,\n",
       " 'Entre 500 mil y menos de 1 millón': 0.5,\n",
       " 'Menos de 500 mil': 0.25,\n",
       " 'No pagó matrícula': 0}"
      ]
     },
     "execution_count": 10,
     "metadata": {},
     "output_type": "execute_result"
    }
   ],
   "source": [
    "replacement = dict(zip(valores, valores2))\n",
    "replacement"
   ]
  },
  {
   "cell_type": "code",
   "execution_count": 11,
   "metadata": {
    "colab": {
     "base_uri": "https://localhost:8080/",
     "height": 669
    },
    "id": "_WlGEnN8eD0X",
    "outputId": "ec19f6a6-d5cd-43ec-9177-67ade529c571"
   },
   "outputs": [
    {
     "data": {
      "text/html": [
       "<div>\n",
       "<style scoped>\n",
       "    .dataframe tbody tr th:only-of-type {\n",
       "        vertical-align: middle;\n",
       "    }\n",
       "\n",
       "    .dataframe tbody tr th {\n",
       "        vertical-align: top;\n",
       "    }\n",
       "\n",
       "    .dataframe thead th {\n",
       "        text-align: right;\n",
       "    }\n",
       "</style>\n",
       "<table border=\"1\" class=\"dataframe\">\n",
       "  <thead>\n",
       "    <tr style=\"text-align: right;\">\n",
       "      <th></th>\n",
       "      <th>ESTU_PRGM_ACADEMICO</th>\n",
       "      <th>ESTU_PRGM_DEPARTAMENTO</th>\n",
       "      <th>ESTU_VALORMATRICULAUNIVERSIDAD</th>\n",
       "      <th>ESTU_HORASSEMANATRABAJA</th>\n",
       "      <th>FAMI_ESTRATOVIVIENDA</th>\n",
       "      <th>FAMI_TIENEINTERNET</th>\n",
       "      <th>FAMI_EDUCACIONPADRE</th>\n",
       "      <th>FAMI_EDUCACIONMADRE</th>\n",
       "      <th>ESTU_PAGOMATRICULAPROPIO</th>\n",
       "      <th>RENDIMIENTO_GLOBAL</th>\n",
       "    </tr>\n",
       "  </thead>\n",
       "  <tbody>\n",
       "    <tr>\n",
       "      <th>0</th>\n",
       "      <td>ENFERMERIA</td>\n",
       "      <td>BOGOTÁ</td>\n",
       "      <td>5.5</td>\n",
       "      <td>Menos de 10 horas</td>\n",
       "      <td>Estrato 3</td>\n",
       "      <td>Si</td>\n",
       "      <td>Técnica o tecnológica incompleta</td>\n",
       "      <td>Postgrado</td>\n",
       "      <td>No</td>\n",
       "      <td>medio-alto</td>\n",
       "    </tr>\n",
       "    <tr>\n",
       "      <th>1</th>\n",
       "      <td>DERECHO</td>\n",
       "      <td>ATLANTICO</td>\n",
       "      <td>2.5</td>\n",
       "      <td>0</td>\n",
       "      <td>Estrato 3</td>\n",
       "      <td>No</td>\n",
       "      <td>Técnica o tecnológica completa</td>\n",
       "      <td>Técnica o tecnológica incompleta</td>\n",
       "      <td>No</td>\n",
       "      <td>bajo</td>\n",
       "    </tr>\n",
       "    <tr>\n",
       "      <th>2</th>\n",
       "      <td>MERCADEO Y PUBLICIDAD</td>\n",
       "      <td>BOGOTÁ</td>\n",
       "      <td>2.5</td>\n",
       "      <td>Más de 30 horas</td>\n",
       "      <td>Estrato 3</td>\n",
       "      <td>Si</td>\n",
       "      <td>Secundaria (Bachillerato) completa</td>\n",
       "      <td>Secundaria (Bachillerato) completa</td>\n",
       "      <td>No</td>\n",
       "      <td>bajo</td>\n",
       "    </tr>\n",
       "    <tr>\n",
       "      <th>3</th>\n",
       "      <td>ADMINISTRACION DE EMPRESAS</td>\n",
       "      <td>SANTANDER</td>\n",
       "      <td>4.0</td>\n",
       "      <td>0</td>\n",
       "      <td>Estrato 4</td>\n",
       "      <td>Si</td>\n",
       "      <td>No sabe</td>\n",
       "      <td>Secundaria (Bachillerato) completa</td>\n",
       "      <td>No</td>\n",
       "      <td>alto</td>\n",
       "    </tr>\n",
       "    <tr>\n",
       "      <th>4</th>\n",
       "      <td>PSICOLOGIA</td>\n",
       "      <td>ANTIOQUIA</td>\n",
       "      <td>2.5</td>\n",
       "      <td>Entre 21 y 30 horas</td>\n",
       "      <td>Estrato 3</td>\n",
       "      <td>Si</td>\n",
       "      <td>Primaria completa</td>\n",
       "      <td>Primaria completa</td>\n",
       "      <td>No</td>\n",
       "      <td>medio-bajo</td>\n",
       "    </tr>\n",
       "    <tr>\n",
       "      <th>...</th>\n",
       "      <td>...</td>\n",
       "      <td>...</td>\n",
       "      <td>...</td>\n",
       "      <td>...</td>\n",
       "      <td>...</td>\n",
       "      <td>...</td>\n",
       "      <td>...</td>\n",
       "      <td>...</td>\n",
       "      <td>...</td>\n",
       "      <td>...</td>\n",
       "    </tr>\n",
       "    <tr>\n",
       "      <th>692495</th>\n",
       "      <td>BIOLOGIA</td>\n",
       "      <td>LA GUAJIRA</td>\n",
       "      <td>0.5</td>\n",
       "      <td>Entre 11 y 20 horas</td>\n",
       "      <td>Estrato 2</td>\n",
       "      <td>Si</td>\n",
       "      <td>Secundaria (Bachillerato) completa</td>\n",
       "      <td>Secundaria (Bachillerato) incompleta</td>\n",
       "      <td>Si</td>\n",
       "      <td>medio-alto</td>\n",
       "    </tr>\n",
       "    <tr>\n",
       "      <th>692496</th>\n",
       "      <td>PSICOLOGIA</td>\n",
       "      <td>NORTE SANTANDER</td>\n",
       "      <td>2.5</td>\n",
       "      <td>Más de 30 horas</td>\n",
       "      <td>Estrato 3</td>\n",
       "      <td>Si</td>\n",
       "      <td>Primaria incompleta</td>\n",
       "      <td>Secundaria (Bachillerato) incompleta</td>\n",
       "      <td>No</td>\n",
       "      <td>bajo</td>\n",
       "    </tr>\n",
       "    <tr>\n",
       "      <th>692497</th>\n",
       "      <td>ADMINISTRACIÓN EN SALUD OCUPACIONAL</td>\n",
       "      <td>BOGOTÁ</td>\n",
       "      <td>1.0</td>\n",
       "      <td>Menos de 10 horas</td>\n",
       "      <td>Estrato 3</td>\n",
       "      <td>Si</td>\n",
       "      <td>Secundaria (Bachillerato) completa</td>\n",
       "      <td>Secundaria (Bachillerato) incompleta</td>\n",
       "      <td>Si</td>\n",
       "      <td>medio-bajo</td>\n",
       "    </tr>\n",
       "    <tr>\n",
       "      <th>692498</th>\n",
       "      <td>PSICOLOGIA</td>\n",
       "      <td>TOLIMA</td>\n",
       "      <td>2.5</td>\n",
       "      <td>Menos de 10 horas</td>\n",
       "      <td>Estrato 1</td>\n",
       "      <td>No</td>\n",
       "      <td>Primaria completa</td>\n",
       "      <td>Primaria completa</td>\n",
       "      <td>Si</td>\n",
       "      <td>bajo</td>\n",
       "    </tr>\n",
       "    <tr>\n",
       "      <th>692499</th>\n",
       "      <td>PSICOLOGIA</td>\n",
       "      <td>ANTIOQUIA</td>\n",
       "      <td>5.5</td>\n",
       "      <td>Más de 30 horas</td>\n",
       "      <td>Estrato 4</td>\n",
       "      <td>Si</td>\n",
       "      <td>Secundaria (Bachillerato) completa</td>\n",
       "      <td>Técnica o tecnológica completa</td>\n",
       "      <td>No</td>\n",
       "      <td>alto</td>\n",
       "    </tr>\n",
       "  </tbody>\n",
       "</table>\n",
       "<p>692500 rows × 10 columns</p>\n",
       "</div>"
      ],
      "text/plain": [
       "                        ESTU_PRGM_ACADEMICO ESTU_PRGM_DEPARTAMENTO  \\\n",
       "0                                ENFERMERIA                 BOGOTÁ   \n",
       "1                                   DERECHO              ATLANTICO   \n",
       "2                     MERCADEO Y PUBLICIDAD                 BOGOTÁ   \n",
       "3                ADMINISTRACION DE EMPRESAS              SANTANDER   \n",
       "4                                PSICOLOGIA              ANTIOQUIA   \n",
       "...                                     ...                    ...   \n",
       "692495                             BIOLOGIA             LA GUAJIRA   \n",
       "692496                           PSICOLOGIA        NORTE SANTANDER   \n",
       "692497  ADMINISTRACIÓN EN SALUD OCUPACIONAL                 BOGOTÁ   \n",
       "692498                           PSICOLOGIA                 TOLIMA   \n",
       "692499                           PSICOLOGIA              ANTIOQUIA   \n",
       "\n",
       "        ESTU_VALORMATRICULAUNIVERSIDAD ESTU_HORASSEMANATRABAJA  \\\n",
       "0                                  5.5       Menos de 10 horas   \n",
       "1                                  2.5                       0   \n",
       "2                                  2.5         Más de 30 horas   \n",
       "3                                  4.0                       0   \n",
       "4                                  2.5     Entre 21 y 30 horas   \n",
       "...                                ...                     ...   \n",
       "692495                             0.5     Entre 11 y 20 horas   \n",
       "692496                             2.5         Más de 30 horas   \n",
       "692497                             1.0       Menos de 10 horas   \n",
       "692498                             2.5       Menos de 10 horas   \n",
       "692499                             5.5         Más de 30 horas   \n",
       "\n",
       "       FAMI_ESTRATOVIVIENDA FAMI_TIENEINTERNET  \\\n",
       "0                 Estrato 3                 Si   \n",
       "1                 Estrato 3                 No   \n",
       "2                 Estrato 3                 Si   \n",
       "3                 Estrato 4                 Si   \n",
       "4                 Estrato 3                 Si   \n",
       "...                     ...                ...   \n",
       "692495            Estrato 2                 Si   \n",
       "692496            Estrato 3                 Si   \n",
       "692497            Estrato 3                 Si   \n",
       "692498            Estrato 1                 No   \n",
       "692499            Estrato 4                 Si   \n",
       "\n",
       "                       FAMI_EDUCACIONPADRE  \\\n",
       "0         Técnica o tecnológica incompleta   \n",
       "1           Técnica o tecnológica completa   \n",
       "2       Secundaria (Bachillerato) completa   \n",
       "3                                  No sabe   \n",
       "4                        Primaria completa   \n",
       "...                                    ...   \n",
       "692495  Secundaria (Bachillerato) completa   \n",
       "692496                 Primaria incompleta   \n",
       "692497  Secundaria (Bachillerato) completa   \n",
       "692498                   Primaria completa   \n",
       "692499  Secundaria (Bachillerato) completa   \n",
       "\n",
       "                         FAMI_EDUCACIONMADRE ESTU_PAGOMATRICULAPROPIO  \\\n",
       "0                                  Postgrado                       No   \n",
       "1           Técnica o tecnológica incompleta                       No   \n",
       "2         Secundaria (Bachillerato) completa                       No   \n",
       "3         Secundaria (Bachillerato) completa                       No   \n",
       "4                          Primaria completa                       No   \n",
       "...                                      ...                      ...   \n",
       "692495  Secundaria (Bachillerato) incompleta                       Si   \n",
       "692496  Secundaria (Bachillerato) incompleta                       No   \n",
       "692497  Secundaria (Bachillerato) incompleta                       Si   \n",
       "692498                     Primaria completa                       Si   \n",
       "692499        Técnica o tecnológica completa                       No   \n",
       "\n",
       "       RENDIMIENTO_GLOBAL  \n",
       "0              medio-alto  \n",
       "1                    bajo  \n",
       "2                    bajo  \n",
       "3                    alto  \n",
       "4              medio-bajo  \n",
       "...                   ...  \n",
       "692495         medio-alto  \n",
       "692496               bajo  \n",
       "692497         medio-bajo  \n",
       "692498               bajo  \n",
       "692499               alto  \n",
       "\n",
       "[692500 rows x 10 columns]"
      ]
     },
     "execution_count": 11,
     "metadata": {},
     "output_type": "execute_result"
    }
   ],
   "source": [
    "# utilizar este diccionario para reemplzar los valores de la columna\n",
    "train['ESTU_VALORMATRICULAUNIVERSIDAD'] = train['ESTU_VALORMATRICULAUNIVERSIDAD'].replace(replacement)\n",
    "train"
   ]
  },
  {
   "cell_type": "markdown",
   "metadata": {
    "id": "RE6WFxdneU6-"
   },
   "source": [
    "# Ahora haremos lo mismo con horas trabaja semana"
   ]
  },
  {
   "cell_type": "code",
   "execution_count": 12,
   "metadata": {
    "colab": {
     "base_uri": "https://localhost:8080/"
    },
    "id": "fDd1y47jePgO",
    "outputId": "8de43b17-be22-43e7-d6b4-135a914fc5e1"
   },
   "outputs": [
    {
     "data": {
      "text/plain": [
       "array(['Menos de 10 horas', '0', 'Más de 30 horas', 'Entre 21 y 30 horas',\n",
       "       'Entre 11 y 20 horas'], dtype=object)"
      ]
     },
     "execution_count": 12,
     "metadata": {},
     "output_type": "execute_result"
    }
   ],
   "source": [
    "valores = train.ESTU_HORASSEMANATRABAJA.unique()\n",
    "valores"
   ]
  },
  {
   "cell_type": "code",
   "execution_count": 13,
   "metadata": {
    "id": "b5EQ9r8weSdW"
   },
   "outputs": [],
   "source": [
    "def cambio(x):\n",
    "  xsplited = x.split(' ')\n",
    "  if len(xsplited) == 1:\n",
    "    return 0\n",
    "  xsplited = list(filter(lambda x: True if str(x).isdigit() else False, map(lambda x: int(x) if x.isdigit() else x, xsplited)))\n",
    "  return xsplited[0]"
   ]
  },
  {
   "cell_type": "code",
   "execution_count": 14,
   "metadata": {
    "colab": {
     "base_uri": "https://localhost:8080/"
    },
    "id": "-2fiI_D5fJot",
    "outputId": "14393d8f-e028-4a25-dc0b-b6ed5eddb2b1"
   },
   "outputs": [
    {
     "data": {
      "text/plain": [
       "[10, 0, 30, 21, 11]"
      ]
     },
     "execution_count": 14,
     "metadata": {},
     "output_type": "execute_result"
    }
   ],
   "source": [
    "valores2 = list(map(cambio, valores))\n",
    "valores2"
   ]
  },
  {
   "cell_type": "code",
   "execution_count": 15,
   "metadata": {
    "colab": {
     "base_uri": "https://localhost:8080/"
    },
    "id": "j4yVOzUUfgn2",
    "outputId": "e4483c9e-4ae8-4647-a107-4df219278c4f"
   },
   "outputs": [
    {
     "data": {
      "text/plain": [
       "{'Menos de 10 horas': 10,\n",
       " '0': 0,\n",
       " 'Más de 30 horas': 30,\n",
       " 'Entre 21 y 30 horas': 21,\n",
       " 'Entre 11 y 20 horas': 11}"
      ]
     },
     "execution_count": 15,
     "metadata": {},
     "output_type": "execute_result"
    }
   ],
   "source": [
    "replacement = dict(zip(valores, valores2))\n",
    "replacement"
   ]
  },
  {
   "cell_type": "code",
   "execution_count": 16,
   "metadata": {
    "colab": {
     "base_uri": "https://localhost:8080/",
     "height": 669
    },
    "id": "fimPhae_fi82",
    "outputId": "54e8db06-821f-4f17-aa20-b290ac8e01ed"
   },
   "outputs": [
    {
     "data": {
      "text/html": [
       "<div>\n",
       "<style scoped>\n",
       "    .dataframe tbody tr th:only-of-type {\n",
       "        vertical-align: middle;\n",
       "    }\n",
       "\n",
       "    .dataframe tbody tr th {\n",
       "        vertical-align: top;\n",
       "    }\n",
       "\n",
       "    .dataframe thead th {\n",
       "        text-align: right;\n",
       "    }\n",
       "</style>\n",
       "<table border=\"1\" class=\"dataframe\">\n",
       "  <thead>\n",
       "    <tr style=\"text-align: right;\">\n",
       "      <th></th>\n",
       "      <th>ESTU_PRGM_ACADEMICO</th>\n",
       "      <th>ESTU_PRGM_DEPARTAMENTO</th>\n",
       "      <th>ESTU_VALORMATRICULAUNIVERSIDAD</th>\n",
       "      <th>ESTU_HORASSEMANATRABAJA</th>\n",
       "      <th>FAMI_ESTRATOVIVIENDA</th>\n",
       "      <th>FAMI_TIENEINTERNET</th>\n",
       "      <th>FAMI_EDUCACIONPADRE</th>\n",
       "      <th>FAMI_EDUCACIONMADRE</th>\n",
       "      <th>ESTU_PAGOMATRICULAPROPIO</th>\n",
       "      <th>RENDIMIENTO_GLOBAL</th>\n",
       "    </tr>\n",
       "  </thead>\n",
       "  <tbody>\n",
       "    <tr>\n",
       "      <th>0</th>\n",
       "      <td>ENFERMERIA</td>\n",
       "      <td>BOGOTÁ</td>\n",
       "      <td>5.5</td>\n",
       "      <td>10</td>\n",
       "      <td>Estrato 3</td>\n",
       "      <td>Si</td>\n",
       "      <td>Técnica o tecnológica incompleta</td>\n",
       "      <td>Postgrado</td>\n",
       "      <td>No</td>\n",
       "      <td>medio-alto</td>\n",
       "    </tr>\n",
       "    <tr>\n",
       "      <th>1</th>\n",
       "      <td>DERECHO</td>\n",
       "      <td>ATLANTICO</td>\n",
       "      <td>2.5</td>\n",
       "      <td>0</td>\n",
       "      <td>Estrato 3</td>\n",
       "      <td>No</td>\n",
       "      <td>Técnica o tecnológica completa</td>\n",
       "      <td>Técnica o tecnológica incompleta</td>\n",
       "      <td>No</td>\n",
       "      <td>bajo</td>\n",
       "    </tr>\n",
       "    <tr>\n",
       "      <th>2</th>\n",
       "      <td>MERCADEO Y PUBLICIDAD</td>\n",
       "      <td>BOGOTÁ</td>\n",
       "      <td>2.5</td>\n",
       "      <td>30</td>\n",
       "      <td>Estrato 3</td>\n",
       "      <td>Si</td>\n",
       "      <td>Secundaria (Bachillerato) completa</td>\n",
       "      <td>Secundaria (Bachillerato) completa</td>\n",
       "      <td>No</td>\n",
       "      <td>bajo</td>\n",
       "    </tr>\n",
       "    <tr>\n",
       "      <th>3</th>\n",
       "      <td>ADMINISTRACION DE EMPRESAS</td>\n",
       "      <td>SANTANDER</td>\n",
       "      <td>4.0</td>\n",
       "      <td>0</td>\n",
       "      <td>Estrato 4</td>\n",
       "      <td>Si</td>\n",
       "      <td>No sabe</td>\n",
       "      <td>Secundaria (Bachillerato) completa</td>\n",
       "      <td>No</td>\n",
       "      <td>alto</td>\n",
       "    </tr>\n",
       "    <tr>\n",
       "      <th>4</th>\n",
       "      <td>PSICOLOGIA</td>\n",
       "      <td>ANTIOQUIA</td>\n",
       "      <td>2.5</td>\n",
       "      <td>21</td>\n",
       "      <td>Estrato 3</td>\n",
       "      <td>Si</td>\n",
       "      <td>Primaria completa</td>\n",
       "      <td>Primaria completa</td>\n",
       "      <td>No</td>\n",
       "      <td>medio-bajo</td>\n",
       "    </tr>\n",
       "    <tr>\n",
       "      <th>...</th>\n",
       "      <td>...</td>\n",
       "      <td>...</td>\n",
       "      <td>...</td>\n",
       "      <td>...</td>\n",
       "      <td>...</td>\n",
       "      <td>...</td>\n",
       "      <td>...</td>\n",
       "      <td>...</td>\n",
       "      <td>...</td>\n",
       "      <td>...</td>\n",
       "    </tr>\n",
       "    <tr>\n",
       "      <th>692495</th>\n",
       "      <td>BIOLOGIA</td>\n",
       "      <td>LA GUAJIRA</td>\n",
       "      <td>0.5</td>\n",
       "      <td>11</td>\n",
       "      <td>Estrato 2</td>\n",
       "      <td>Si</td>\n",
       "      <td>Secundaria (Bachillerato) completa</td>\n",
       "      <td>Secundaria (Bachillerato) incompleta</td>\n",
       "      <td>Si</td>\n",
       "      <td>medio-alto</td>\n",
       "    </tr>\n",
       "    <tr>\n",
       "      <th>692496</th>\n",
       "      <td>PSICOLOGIA</td>\n",
       "      <td>NORTE SANTANDER</td>\n",
       "      <td>2.5</td>\n",
       "      <td>30</td>\n",
       "      <td>Estrato 3</td>\n",
       "      <td>Si</td>\n",
       "      <td>Primaria incompleta</td>\n",
       "      <td>Secundaria (Bachillerato) incompleta</td>\n",
       "      <td>No</td>\n",
       "      <td>bajo</td>\n",
       "    </tr>\n",
       "    <tr>\n",
       "      <th>692497</th>\n",
       "      <td>ADMINISTRACIÓN EN SALUD OCUPACIONAL</td>\n",
       "      <td>BOGOTÁ</td>\n",
       "      <td>1.0</td>\n",
       "      <td>10</td>\n",
       "      <td>Estrato 3</td>\n",
       "      <td>Si</td>\n",
       "      <td>Secundaria (Bachillerato) completa</td>\n",
       "      <td>Secundaria (Bachillerato) incompleta</td>\n",
       "      <td>Si</td>\n",
       "      <td>medio-bajo</td>\n",
       "    </tr>\n",
       "    <tr>\n",
       "      <th>692498</th>\n",
       "      <td>PSICOLOGIA</td>\n",
       "      <td>TOLIMA</td>\n",
       "      <td>2.5</td>\n",
       "      <td>10</td>\n",
       "      <td>Estrato 1</td>\n",
       "      <td>No</td>\n",
       "      <td>Primaria completa</td>\n",
       "      <td>Primaria completa</td>\n",
       "      <td>Si</td>\n",
       "      <td>bajo</td>\n",
       "    </tr>\n",
       "    <tr>\n",
       "      <th>692499</th>\n",
       "      <td>PSICOLOGIA</td>\n",
       "      <td>ANTIOQUIA</td>\n",
       "      <td>5.5</td>\n",
       "      <td>30</td>\n",
       "      <td>Estrato 4</td>\n",
       "      <td>Si</td>\n",
       "      <td>Secundaria (Bachillerato) completa</td>\n",
       "      <td>Técnica o tecnológica completa</td>\n",
       "      <td>No</td>\n",
       "      <td>alto</td>\n",
       "    </tr>\n",
       "  </tbody>\n",
       "</table>\n",
       "<p>692500 rows × 10 columns</p>\n",
       "</div>"
      ],
      "text/plain": [
       "                        ESTU_PRGM_ACADEMICO ESTU_PRGM_DEPARTAMENTO  \\\n",
       "0                                ENFERMERIA                 BOGOTÁ   \n",
       "1                                   DERECHO              ATLANTICO   \n",
       "2                     MERCADEO Y PUBLICIDAD                 BOGOTÁ   \n",
       "3                ADMINISTRACION DE EMPRESAS              SANTANDER   \n",
       "4                                PSICOLOGIA              ANTIOQUIA   \n",
       "...                                     ...                    ...   \n",
       "692495                             BIOLOGIA             LA GUAJIRA   \n",
       "692496                           PSICOLOGIA        NORTE SANTANDER   \n",
       "692497  ADMINISTRACIÓN EN SALUD OCUPACIONAL                 BOGOTÁ   \n",
       "692498                           PSICOLOGIA                 TOLIMA   \n",
       "692499                           PSICOLOGIA              ANTIOQUIA   \n",
       "\n",
       "        ESTU_VALORMATRICULAUNIVERSIDAD  ESTU_HORASSEMANATRABAJA  \\\n",
       "0                                  5.5                       10   \n",
       "1                                  2.5                        0   \n",
       "2                                  2.5                       30   \n",
       "3                                  4.0                        0   \n",
       "4                                  2.5                       21   \n",
       "...                                ...                      ...   \n",
       "692495                             0.5                       11   \n",
       "692496                             2.5                       30   \n",
       "692497                             1.0                       10   \n",
       "692498                             2.5                       10   \n",
       "692499                             5.5                       30   \n",
       "\n",
       "       FAMI_ESTRATOVIVIENDA FAMI_TIENEINTERNET  \\\n",
       "0                 Estrato 3                 Si   \n",
       "1                 Estrato 3                 No   \n",
       "2                 Estrato 3                 Si   \n",
       "3                 Estrato 4                 Si   \n",
       "4                 Estrato 3                 Si   \n",
       "...                     ...                ...   \n",
       "692495            Estrato 2                 Si   \n",
       "692496            Estrato 3                 Si   \n",
       "692497            Estrato 3                 Si   \n",
       "692498            Estrato 1                 No   \n",
       "692499            Estrato 4                 Si   \n",
       "\n",
       "                       FAMI_EDUCACIONPADRE  \\\n",
       "0         Técnica o tecnológica incompleta   \n",
       "1           Técnica o tecnológica completa   \n",
       "2       Secundaria (Bachillerato) completa   \n",
       "3                                  No sabe   \n",
       "4                        Primaria completa   \n",
       "...                                    ...   \n",
       "692495  Secundaria (Bachillerato) completa   \n",
       "692496                 Primaria incompleta   \n",
       "692497  Secundaria (Bachillerato) completa   \n",
       "692498                   Primaria completa   \n",
       "692499  Secundaria (Bachillerato) completa   \n",
       "\n",
       "                         FAMI_EDUCACIONMADRE ESTU_PAGOMATRICULAPROPIO  \\\n",
       "0                                  Postgrado                       No   \n",
       "1           Técnica o tecnológica incompleta                       No   \n",
       "2         Secundaria (Bachillerato) completa                       No   \n",
       "3         Secundaria (Bachillerato) completa                       No   \n",
       "4                          Primaria completa                       No   \n",
       "...                                      ...                      ...   \n",
       "692495  Secundaria (Bachillerato) incompleta                       Si   \n",
       "692496  Secundaria (Bachillerato) incompleta                       No   \n",
       "692497  Secundaria (Bachillerato) incompleta                       Si   \n",
       "692498                     Primaria completa                       Si   \n",
       "692499        Técnica o tecnológica completa                       No   \n",
       "\n",
       "       RENDIMIENTO_GLOBAL  \n",
       "0              medio-alto  \n",
       "1                    bajo  \n",
       "2                    bajo  \n",
       "3                    alto  \n",
       "4              medio-bajo  \n",
       "...                   ...  \n",
       "692495         medio-alto  \n",
       "692496               bajo  \n",
       "692497         medio-bajo  \n",
       "692498               bajo  \n",
       "692499               alto  \n",
       "\n",
       "[692500 rows x 10 columns]"
      ]
     },
     "execution_count": 16,
     "metadata": {},
     "output_type": "execute_result"
    }
   ],
   "source": [
    "train['ESTU_HORASSEMANATRABAJA'] = train['ESTU_HORASSEMANATRABAJA'].replace(replacement)\n",
    "train"
   ]
  },
  {
   "cell_type": "markdown",
   "metadata": {
    "id": "AUVkcbgffpdJ"
   },
   "source": [
    "Ahora con FAMI_ESTRATOVIVIENDA"
   ]
  },
  {
   "cell_type": "code",
   "execution_count": 17,
   "metadata": {
    "colab": {
     "base_uri": "https://localhost:8080/"
    },
    "id": "LD3g23gXfnUd",
    "outputId": "e511bc9d-bda7-42af-fe71-14aba74d2a72"
   },
   "outputs": [
    {
     "data": {
      "text/plain": [
       "array(['Estrato 3', 'Estrato 4', 'Estrato 5', 'Estrato 2', 'Estrato 1',\n",
       "       'Estrato 6', 'Sin Estrato'], dtype=object)"
      ]
     },
     "execution_count": 17,
     "metadata": {},
     "output_type": "execute_result"
    }
   ],
   "source": [
    "valores = train.FAMI_ESTRATOVIVIENDA.unique()\n",
    "valores"
   ]
  },
  {
   "cell_type": "code",
   "execution_count": 18,
   "metadata": {
    "colab": {
     "base_uri": "https://localhost:8080/"
    },
    "id": "hibZ7aUHf7Ud",
    "outputId": "65735f51-2e19-4d09-efbc-97e0781110e5"
   },
   "outputs": [
    {
     "data": {
      "text/plain": [
       "[3, 4, 5, 2, 1, 6, 0]"
      ]
     },
     "execution_count": 18,
     "metadata": {},
     "output_type": "execute_result"
    }
   ],
   "source": [
    "valores2 = list(map(lambda x: int(x.split(' ')[1]) if x.split(' ')[1].isdigit() else 0, valores))\n",
    "valores2"
   ]
  },
  {
   "cell_type": "code",
   "execution_count": 19,
   "metadata": {
    "colab": {
     "base_uri": "https://localhost:8080/"
    },
    "id": "IvPDX0ztgH2t",
    "outputId": "439eaec3-e094-45ee-edb4-4879f06041b8"
   },
   "outputs": [
    {
     "data": {
      "text/plain": [
       "{'Estrato 3': 3,\n",
       " 'Estrato 4': 4,\n",
       " 'Estrato 5': 5,\n",
       " 'Estrato 2': 2,\n",
       " 'Estrato 1': 1,\n",
       " 'Estrato 6': 6,\n",
       " 'Sin Estrato': 0}"
      ]
     },
     "execution_count": 19,
     "metadata": {},
     "output_type": "execute_result"
    }
   ],
   "source": [
    "replacement = dict(zip(valores, valores2))\n",
    "replacement"
   ]
  },
  {
   "cell_type": "code",
   "execution_count": 20,
   "metadata": {
    "colab": {
     "base_uri": "https://localhost:8080/",
     "height": 669
    },
    "id": "V1_JTDxSgJMu",
    "outputId": "c314048d-cc03-4d72-e51b-29d04dccb181"
   },
   "outputs": [
    {
     "data": {
      "text/html": [
       "<div>\n",
       "<style scoped>\n",
       "    .dataframe tbody tr th:only-of-type {\n",
       "        vertical-align: middle;\n",
       "    }\n",
       "\n",
       "    .dataframe tbody tr th {\n",
       "        vertical-align: top;\n",
       "    }\n",
       "\n",
       "    .dataframe thead th {\n",
       "        text-align: right;\n",
       "    }\n",
       "</style>\n",
       "<table border=\"1\" class=\"dataframe\">\n",
       "  <thead>\n",
       "    <tr style=\"text-align: right;\">\n",
       "      <th></th>\n",
       "      <th>ESTU_PRGM_ACADEMICO</th>\n",
       "      <th>ESTU_PRGM_DEPARTAMENTO</th>\n",
       "      <th>ESTU_VALORMATRICULAUNIVERSIDAD</th>\n",
       "      <th>ESTU_HORASSEMANATRABAJA</th>\n",
       "      <th>FAMI_ESTRATOVIVIENDA</th>\n",
       "      <th>FAMI_TIENEINTERNET</th>\n",
       "      <th>FAMI_EDUCACIONPADRE</th>\n",
       "      <th>FAMI_EDUCACIONMADRE</th>\n",
       "      <th>ESTU_PAGOMATRICULAPROPIO</th>\n",
       "      <th>RENDIMIENTO_GLOBAL</th>\n",
       "    </tr>\n",
       "  </thead>\n",
       "  <tbody>\n",
       "    <tr>\n",
       "      <th>0</th>\n",
       "      <td>ENFERMERIA</td>\n",
       "      <td>BOGOTÁ</td>\n",
       "      <td>5.5</td>\n",
       "      <td>10</td>\n",
       "      <td>3</td>\n",
       "      <td>Si</td>\n",
       "      <td>Técnica o tecnológica incompleta</td>\n",
       "      <td>Postgrado</td>\n",
       "      <td>No</td>\n",
       "      <td>medio-alto</td>\n",
       "    </tr>\n",
       "    <tr>\n",
       "      <th>1</th>\n",
       "      <td>DERECHO</td>\n",
       "      <td>ATLANTICO</td>\n",
       "      <td>2.5</td>\n",
       "      <td>0</td>\n",
       "      <td>3</td>\n",
       "      <td>No</td>\n",
       "      <td>Técnica o tecnológica completa</td>\n",
       "      <td>Técnica o tecnológica incompleta</td>\n",
       "      <td>No</td>\n",
       "      <td>bajo</td>\n",
       "    </tr>\n",
       "    <tr>\n",
       "      <th>2</th>\n",
       "      <td>MERCADEO Y PUBLICIDAD</td>\n",
       "      <td>BOGOTÁ</td>\n",
       "      <td>2.5</td>\n",
       "      <td>30</td>\n",
       "      <td>3</td>\n",
       "      <td>Si</td>\n",
       "      <td>Secundaria (Bachillerato) completa</td>\n",
       "      <td>Secundaria (Bachillerato) completa</td>\n",
       "      <td>No</td>\n",
       "      <td>bajo</td>\n",
       "    </tr>\n",
       "    <tr>\n",
       "      <th>3</th>\n",
       "      <td>ADMINISTRACION DE EMPRESAS</td>\n",
       "      <td>SANTANDER</td>\n",
       "      <td>4.0</td>\n",
       "      <td>0</td>\n",
       "      <td>4</td>\n",
       "      <td>Si</td>\n",
       "      <td>No sabe</td>\n",
       "      <td>Secundaria (Bachillerato) completa</td>\n",
       "      <td>No</td>\n",
       "      <td>alto</td>\n",
       "    </tr>\n",
       "    <tr>\n",
       "      <th>4</th>\n",
       "      <td>PSICOLOGIA</td>\n",
       "      <td>ANTIOQUIA</td>\n",
       "      <td>2.5</td>\n",
       "      <td>21</td>\n",
       "      <td>3</td>\n",
       "      <td>Si</td>\n",
       "      <td>Primaria completa</td>\n",
       "      <td>Primaria completa</td>\n",
       "      <td>No</td>\n",
       "      <td>medio-bajo</td>\n",
       "    </tr>\n",
       "    <tr>\n",
       "      <th>...</th>\n",
       "      <td>...</td>\n",
       "      <td>...</td>\n",
       "      <td>...</td>\n",
       "      <td>...</td>\n",
       "      <td>...</td>\n",
       "      <td>...</td>\n",
       "      <td>...</td>\n",
       "      <td>...</td>\n",
       "      <td>...</td>\n",
       "      <td>...</td>\n",
       "    </tr>\n",
       "    <tr>\n",
       "      <th>692495</th>\n",
       "      <td>BIOLOGIA</td>\n",
       "      <td>LA GUAJIRA</td>\n",
       "      <td>0.5</td>\n",
       "      <td>11</td>\n",
       "      <td>2</td>\n",
       "      <td>Si</td>\n",
       "      <td>Secundaria (Bachillerato) completa</td>\n",
       "      <td>Secundaria (Bachillerato) incompleta</td>\n",
       "      <td>Si</td>\n",
       "      <td>medio-alto</td>\n",
       "    </tr>\n",
       "    <tr>\n",
       "      <th>692496</th>\n",
       "      <td>PSICOLOGIA</td>\n",
       "      <td>NORTE SANTANDER</td>\n",
       "      <td>2.5</td>\n",
       "      <td>30</td>\n",
       "      <td>3</td>\n",
       "      <td>Si</td>\n",
       "      <td>Primaria incompleta</td>\n",
       "      <td>Secundaria (Bachillerato) incompleta</td>\n",
       "      <td>No</td>\n",
       "      <td>bajo</td>\n",
       "    </tr>\n",
       "    <tr>\n",
       "      <th>692497</th>\n",
       "      <td>ADMINISTRACIÓN EN SALUD OCUPACIONAL</td>\n",
       "      <td>BOGOTÁ</td>\n",
       "      <td>1.0</td>\n",
       "      <td>10</td>\n",
       "      <td>3</td>\n",
       "      <td>Si</td>\n",
       "      <td>Secundaria (Bachillerato) completa</td>\n",
       "      <td>Secundaria (Bachillerato) incompleta</td>\n",
       "      <td>Si</td>\n",
       "      <td>medio-bajo</td>\n",
       "    </tr>\n",
       "    <tr>\n",
       "      <th>692498</th>\n",
       "      <td>PSICOLOGIA</td>\n",
       "      <td>TOLIMA</td>\n",
       "      <td>2.5</td>\n",
       "      <td>10</td>\n",
       "      <td>1</td>\n",
       "      <td>No</td>\n",
       "      <td>Primaria completa</td>\n",
       "      <td>Primaria completa</td>\n",
       "      <td>Si</td>\n",
       "      <td>bajo</td>\n",
       "    </tr>\n",
       "    <tr>\n",
       "      <th>692499</th>\n",
       "      <td>PSICOLOGIA</td>\n",
       "      <td>ANTIOQUIA</td>\n",
       "      <td>5.5</td>\n",
       "      <td>30</td>\n",
       "      <td>4</td>\n",
       "      <td>Si</td>\n",
       "      <td>Secundaria (Bachillerato) completa</td>\n",
       "      <td>Técnica o tecnológica completa</td>\n",
       "      <td>No</td>\n",
       "      <td>alto</td>\n",
       "    </tr>\n",
       "  </tbody>\n",
       "</table>\n",
       "<p>692500 rows × 10 columns</p>\n",
       "</div>"
      ],
      "text/plain": [
       "                        ESTU_PRGM_ACADEMICO ESTU_PRGM_DEPARTAMENTO  \\\n",
       "0                                ENFERMERIA                 BOGOTÁ   \n",
       "1                                   DERECHO              ATLANTICO   \n",
       "2                     MERCADEO Y PUBLICIDAD                 BOGOTÁ   \n",
       "3                ADMINISTRACION DE EMPRESAS              SANTANDER   \n",
       "4                                PSICOLOGIA              ANTIOQUIA   \n",
       "...                                     ...                    ...   \n",
       "692495                             BIOLOGIA             LA GUAJIRA   \n",
       "692496                           PSICOLOGIA        NORTE SANTANDER   \n",
       "692497  ADMINISTRACIÓN EN SALUD OCUPACIONAL                 BOGOTÁ   \n",
       "692498                           PSICOLOGIA                 TOLIMA   \n",
       "692499                           PSICOLOGIA              ANTIOQUIA   \n",
       "\n",
       "        ESTU_VALORMATRICULAUNIVERSIDAD  ESTU_HORASSEMANATRABAJA  \\\n",
       "0                                  5.5                       10   \n",
       "1                                  2.5                        0   \n",
       "2                                  2.5                       30   \n",
       "3                                  4.0                        0   \n",
       "4                                  2.5                       21   \n",
       "...                                ...                      ...   \n",
       "692495                             0.5                       11   \n",
       "692496                             2.5                       30   \n",
       "692497                             1.0                       10   \n",
       "692498                             2.5                       10   \n",
       "692499                             5.5                       30   \n",
       "\n",
       "        FAMI_ESTRATOVIVIENDA FAMI_TIENEINTERNET  \\\n",
       "0                          3                 Si   \n",
       "1                          3                 No   \n",
       "2                          3                 Si   \n",
       "3                          4                 Si   \n",
       "4                          3                 Si   \n",
       "...                      ...                ...   \n",
       "692495                     2                 Si   \n",
       "692496                     3                 Si   \n",
       "692497                     3                 Si   \n",
       "692498                     1                 No   \n",
       "692499                     4                 Si   \n",
       "\n",
       "                       FAMI_EDUCACIONPADRE  \\\n",
       "0         Técnica o tecnológica incompleta   \n",
       "1           Técnica o tecnológica completa   \n",
       "2       Secundaria (Bachillerato) completa   \n",
       "3                                  No sabe   \n",
       "4                        Primaria completa   \n",
       "...                                    ...   \n",
       "692495  Secundaria (Bachillerato) completa   \n",
       "692496                 Primaria incompleta   \n",
       "692497  Secundaria (Bachillerato) completa   \n",
       "692498                   Primaria completa   \n",
       "692499  Secundaria (Bachillerato) completa   \n",
       "\n",
       "                         FAMI_EDUCACIONMADRE ESTU_PAGOMATRICULAPROPIO  \\\n",
       "0                                  Postgrado                       No   \n",
       "1           Técnica o tecnológica incompleta                       No   \n",
       "2         Secundaria (Bachillerato) completa                       No   \n",
       "3         Secundaria (Bachillerato) completa                       No   \n",
       "4                          Primaria completa                       No   \n",
       "...                                      ...                      ...   \n",
       "692495  Secundaria (Bachillerato) incompleta                       Si   \n",
       "692496  Secundaria (Bachillerato) incompleta                       No   \n",
       "692497  Secundaria (Bachillerato) incompleta                       Si   \n",
       "692498                     Primaria completa                       Si   \n",
       "692499        Técnica o tecnológica completa                       No   \n",
       "\n",
       "       RENDIMIENTO_GLOBAL  \n",
       "0              medio-alto  \n",
       "1                    bajo  \n",
       "2                    bajo  \n",
       "3                    alto  \n",
       "4              medio-bajo  \n",
       "...                   ...  \n",
       "692495         medio-alto  \n",
       "692496               bajo  \n",
       "692497         medio-bajo  \n",
       "692498               bajo  \n",
       "692499               alto  \n",
       "\n",
       "[692500 rows x 10 columns]"
      ]
     },
     "execution_count": 20,
     "metadata": {},
     "output_type": "execute_result"
    }
   ],
   "source": [
    "train['FAMI_ESTRATOVIVIENDA'] = train['FAMI_ESTRATOVIVIENDA'].replace(replacement)\n",
    "train"
   ]
  },
  {
   "cell_type": "markdown",
   "metadata": {
    "id": "sA9h7VoygNZu"
   },
   "source": [
    "FAMI_TIENEINTERNET y  ESTU_PAGOMATRICULAPROPIO que tienen los mismos posibles datos"
   ]
  },
  {
   "cell_type": "code",
   "execution_count": 21,
   "metadata": {
    "colab": {
     "base_uri": "https://localhost:8080/"
    },
    "id": "cdDC4GH1gPvl",
    "outputId": "a4bc3d1f-8eee-49cb-e889-97425f353bb8"
   },
   "outputs": [
    {
     "data": {
      "text/plain": [
       "array(['Si', 'No'], dtype=object)"
      ]
     },
     "execution_count": 21,
     "metadata": {},
     "output_type": "execute_result"
    }
   ],
   "source": [
    "valores1 = train.FAMI_TIENEINTERNET.unique()\n",
    "valores1"
   ]
  },
  {
   "cell_type": "code",
   "execution_count": 22,
   "metadata": {
    "colab": {
     "base_uri": "https://localhost:8080/"
    },
    "id": "mwikDrlkgWk9",
    "outputId": "7721a293-cb1e-4118-c40b-5a5496d9a599"
   },
   "outputs": [
    {
     "data": {
      "text/plain": [
       "array(['No', 'Si'], dtype=object)"
      ]
     },
     "execution_count": 22,
     "metadata": {},
     "output_type": "execute_result"
    }
   ],
   "source": [
    "valores = train.ESTU_PAGOMATRICULAPROPIO.unique()\n",
    "valores"
   ]
  },
  {
   "cell_type": "markdown",
   "metadata": {
    "id": "_mmCOYxqgh7d"
   },
   "source": [
    "Ahora no será 0 y si será 1."
   ]
  },
  {
   "cell_type": "code",
   "execution_count": 23,
   "metadata": {
    "colab": {
     "base_uri": "https://localhost:8080/"
    },
    "id": "Jjmi5T_egcDl",
    "outputId": "a2f86296-6a79-4370-870e-1e23cab7ba18"
   },
   "outputs": [
    {
     "data": {
      "text/plain": [
       "{'No': 0, 'Si': 1}"
      ]
     },
     "execution_count": 23,
     "metadata": {},
     "output_type": "execute_result"
    }
   ],
   "source": [
    "replacement = dict(zip(valores, [0,1]))\n",
    "replacement"
   ]
  },
  {
   "cell_type": "code",
   "execution_count": 24,
   "metadata": {
    "colab": {
     "base_uri": "https://localhost:8080/"
    },
    "id": "lasTiHwWgjik",
    "outputId": "70b7db1e-3e5b-42ee-e404-6c1d1535841e"
   },
   "outputs": [],
   "source": [
    "train['FAMI_TIENEINTERNET'] = train['FAMI_TIENEINTERNET'].replace(replacement)\n",
    "train['ESTU_PAGOMATRICULAPROPIO'] = train['ESTU_PAGOMATRICULAPROPIO'].replace(replacement)"
   ]
  },
  {
   "cell_type": "markdown",
   "metadata": {
    "id": "UznLHETjitJk"
   },
   "source": [
    "FAMI_EDUCACIONPADRE y FAMI_EDUCACIONMADRE que tienen los mismos tipos de dato."
   ]
  },
  {
   "cell_type": "code",
   "execution_count": 25,
   "metadata": {
    "colab": {
     "base_uri": "https://localhost:8080/"
    },
    "id": "kzxEwdXNgli8",
    "outputId": "6f5eaa83-ceed-4387-eff4-d701931cf086"
   },
   "outputs": [
    {
     "data": {
      "text/plain": [
       "array(['Técnica o tecnológica incompleta',\n",
       "       'Técnica o tecnológica completa',\n",
       "       'Secundaria (Bachillerato) completa', 'No sabe',\n",
       "       'Primaria completa', 'Educación profesional completa',\n",
       "       'Educación profesional incompleta', 'Primaria incompleta',\n",
       "       'Postgrado', 'Secundaria (Bachillerato) incompleta', 'Ninguno',\n",
       "       'No Aplica'], dtype=object)"
      ]
     },
     "execution_count": 25,
     "metadata": {},
     "output_type": "execute_result"
    }
   ],
   "source": [
    "valores = train.FAMI_EDUCACIONPADRE.unique()\n",
    "valores"
   ]
  },
  {
   "cell_type": "markdown",
   "metadata": {
    "id": "mjWBERsmjG-t"
   },
   "source": [
    "Se seleccionan por decisión del programador cuales son los valores de educación correspondiente para cada uno de los posibles niveles encuestados, tomando NA, Ninguno y no sabe como 0."
   ]
  },
  {
   "cell_type": "code",
   "execution_count": 26,
   "metadata": {
    "id": "HIRcf-OijGgE"
   },
   "outputs": [],
   "source": [
    "educacion_numerica = {\n",
    "    'No Aplica': 0,\n",
    "    'Ninguno': 0,\n",
    "    'No sabe': 0,\n",
    "    'Primaria incompleta': 1,\n",
    "    'Primaria completa': 2,\n",
    "    'Secundaria (Bachillerato) incompleta': 3,\n",
    "    'Secundaria (Bachillerato) completa': 4,\n",
    "    'Técnica o tecnológica incompleta': 5,\n",
    "    'Técnica o tecnológica completa': 6,\n",
    "    'Educación profesional incompleta': 7,\n",
    "    'Educación profesional completa': 8,\n",
    "    'Postgrado': 9\n",
    "}\n"
   ]
  },
  {
   "cell_type": "code",
   "execution_count": 27,
   "metadata": {
    "colab": {
     "base_uri": "https://localhost:8080/"
    },
    "id": "VskKcFOVjSVl",
    "outputId": "3750d651-704e-47e7-deb8-d355d3d80ce7"
   },
   "outputs": [],
   "source": [
    "train['FAMI_EDUCACIONPADRE'] = train['FAMI_EDUCACIONPADRE'].replace(educacion_numerica)\n",
    "train['FAMI_EDUCACIONMADRE'] = train['FAMI_EDUCACIONMADRE'].replace(educacion_numerica)"
   ]
  },
  {
   "cell_type": "markdown",
   "metadata": {
    "id": "OJJJFkE5jYmD"
   },
   "source": [
    "Por ultimo (entre los que podemos convertir a numeros de manera logica) tomamos rendimiento global y lo ponemos de 1 a 4."
   ]
  },
  {
   "cell_type": "code",
   "execution_count": 28,
   "metadata": {
    "colab": {
     "base_uri": "https://localhost:8080/"
    },
    "id": "I96Oeqg7jT3b",
    "outputId": "5e9dbde8-07e7-4db6-8375-a40b6528e70e"
   },
   "outputs": [
    {
     "data": {
      "text/plain": [
       "array(['medio-alto', 'bajo', 'alto', 'medio-bajo'], dtype=object)"
      ]
     },
     "execution_count": 28,
     "metadata": {},
     "output_type": "execute_result"
    }
   ],
   "source": [
    "train.RENDIMIENTO_GLOBAL.unique()"
   ]
  },
  {
   "cell_type": "code",
   "execution_count": 29,
   "metadata": {
    "colab": {
     "base_uri": "https://localhost:8080/"
    },
    "id": "_W6gsUnojgJl",
    "outputId": "c675d45b-7c92-46f0-d917-d1935c9607f2"
   },
   "outputs": [
    {
     "data": {
      "text/plain": [
       "{'medio-alto': 3, 'bajo': 1, 'alto': 4, 'medio-bajo': 2}"
      ]
     },
     "execution_count": 29,
     "metadata": {},
     "output_type": "execute_result"
    }
   ],
   "source": [
    "replacement = dict(zip(train.RENDIMIENTO_GLOBAL.unique(), [3,1,4,2]))\n",
    "replacement"
   ]
  },
  {
   "cell_type": "code",
   "execution_count": 30,
   "metadata": {
    "colab": {
     "base_uri": "https://localhost:8080/",
     "height": 296
    },
    "id": "sLhpe4EyjoDG",
    "outputId": "379be964-2fbd-4d7c-8035-a22ec8326d04"
   },
   "outputs": [
    {
     "data": {
      "text/html": [
       "<div>\n",
       "<style scoped>\n",
       "    .dataframe tbody tr th:only-of-type {\n",
       "        vertical-align: middle;\n",
       "    }\n",
       "\n",
       "    .dataframe tbody tr th {\n",
       "        vertical-align: top;\n",
       "    }\n",
       "\n",
       "    .dataframe thead th {\n",
       "        text-align: right;\n",
       "    }\n",
       "</style>\n",
       "<table border=\"1\" class=\"dataframe\">\n",
       "  <thead>\n",
       "    <tr style=\"text-align: right;\">\n",
       "      <th></th>\n",
       "      <th>ESTU_PRGM_ACADEMICO</th>\n",
       "      <th>ESTU_PRGM_DEPARTAMENTO</th>\n",
       "      <th>ESTU_VALORMATRICULAUNIVERSIDAD</th>\n",
       "      <th>ESTU_HORASSEMANATRABAJA</th>\n",
       "      <th>FAMI_ESTRATOVIVIENDA</th>\n",
       "      <th>FAMI_TIENEINTERNET</th>\n",
       "      <th>FAMI_EDUCACIONPADRE</th>\n",
       "      <th>FAMI_EDUCACIONMADRE</th>\n",
       "      <th>ESTU_PAGOMATRICULAPROPIO</th>\n",
       "      <th>RENDIMIENTO_GLOBAL</th>\n",
       "    </tr>\n",
       "  </thead>\n",
       "  <tbody>\n",
       "    <tr>\n",
       "      <th>0</th>\n",
       "      <td>ENFERMERIA</td>\n",
       "      <td>BOGOTÁ</td>\n",
       "      <td>5.5</td>\n",
       "      <td>10</td>\n",
       "      <td>3</td>\n",
       "      <td>1</td>\n",
       "      <td>5</td>\n",
       "      <td>9</td>\n",
       "      <td>0</td>\n",
       "      <td>3</td>\n",
       "    </tr>\n",
       "    <tr>\n",
       "      <th>1</th>\n",
       "      <td>DERECHO</td>\n",
       "      <td>ATLANTICO</td>\n",
       "      <td>2.5</td>\n",
       "      <td>0</td>\n",
       "      <td>3</td>\n",
       "      <td>0</td>\n",
       "      <td>6</td>\n",
       "      <td>5</td>\n",
       "      <td>0</td>\n",
       "      <td>1</td>\n",
       "    </tr>\n",
       "    <tr>\n",
       "      <th>2</th>\n",
       "      <td>MERCADEO Y PUBLICIDAD</td>\n",
       "      <td>BOGOTÁ</td>\n",
       "      <td>2.5</td>\n",
       "      <td>30</td>\n",
       "      <td>3</td>\n",
       "      <td>1</td>\n",
       "      <td>4</td>\n",
       "      <td>4</td>\n",
       "      <td>0</td>\n",
       "      <td>1</td>\n",
       "    </tr>\n",
       "    <tr>\n",
       "      <th>3</th>\n",
       "      <td>ADMINISTRACION DE EMPRESAS</td>\n",
       "      <td>SANTANDER</td>\n",
       "      <td>4.0</td>\n",
       "      <td>0</td>\n",
       "      <td>4</td>\n",
       "      <td>1</td>\n",
       "      <td>0</td>\n",
       "      <td>4</td>\n",
       "      <td>0</td>\n",
       "      <td>4</td>\n",
       "    </tr>\n",
       "    <tr>\n",
       "      <th>4</th>\n",
       "      <td>PSICOLOGIA</td>\n",
       "      <td>ANTIOQUIA</td>\n",
       "      <td>2.5</td>\n",
       "      <td>21</td>\n",
       "      <td>3</td>\n",
       "      <td>1</td>\n",
       "      <td>2</td>\n",
       "      <td>2</td>\n",
       "      <td>0</td>\n",
       "      <td>2</td>\n",
       "    </tr>\n",
       "  </tbody>\n",
       "</table>\n",
       "</div>"
      ],
      "text/plain": [
       "          ESTU_PRGM_ACADEMICO ESTU_PRGM_DEPARTAMENTO  \\\n",
       "0                  ENFERMERIA                 BOGOTÁ   \n",
       "1                     DERECHO              ATLANTICO   \n",
       "2       MERCADEO Y PUBLICIDAD                 BOGOTÁ   \n",
       "3  ADMINISTRACION DE EMPRESAS              SANTANDER   \n",
       "4                  PSICOLOGIA              ANTIOQUIA   \n",
       "\n",
       "   ESTU_VALORMATRICULAUNIVERSIDAD  ESTU_HORASSEMANATRABAJA  \\\n",
       "0                             5.5                       10   \n",
       "1                             2.5                        0   \n",
       "2                             2.5                       30   \n",
       "3                             4.0                        0   \n",
       "4                             2.5                       21   \n",
       "\n",
       "   FAMI_ESTRATOVIVIENDA  FAMI_TIENEINTERNET  FAMI_EDUCACIONPADRE  \\\n",
       "0                     3                   1                    5   \n",
       "1                     3                   0                    6   \n",
       "2                     3                   1                    4   \n",
       "3                     4                   1                    0   \n",
       "4                     3                   1                    2   \n",
       "\n",
       "   FAMI_EDUCACIONMADRE  ESTU_PAGOMATRICULAPROPIO  RENDIMIENTO_GLOBAL  \n",
       "0                    9                         0                   3  \n",
       "1                    5                         0                   1  \n",
       "2                    4                         0                   1  \n",
       "3                    4                         0                   4  \n",
       "4                    2                         0                   2  "
      ]
     },
     "execution_count": 30,
     "metadata": {},
     "output_type": "execute_result"
    }
   ],
   "source": [
    "train['RENDIMIENTO_GLOBAL'] = train['RENDIMIENTO_GLOBAL'].replace(replacement)\n",
    "train.head()"
   ]
  },
  {
   "cell_type": "markdown",
   "metadata": {
    "id": "pruqgOwnj9Bz"
   },
   "source": [
    "Para el departamento se realiza un onehotencoding y para el programa academico se realiza una codificación numerica de seaborn"
   ]
  },
  {
   "cell_type": "code",
   "execution_count": 31,
   "metadata": {
    "colab": {
     "base_uri": "https://localhost:8080/",
     "height": 273
    },
    "id": "mCTe2EWRkCvU",
    "outputId": "bce750a7-c6c1-4bbe-8528-d452ae6ae31a"
   },
   "outputs": [
    {
     "data": {
      "text/html": [
       "<div>\n",
       "<style scoped>\n",
       "    .dataframe tbody tr th:only-of-type {\n",
       "        vertical-align: middle;\n",
       "    }\n",
       "\n",
       "    .dataframe tbody tr th {\n",
       "        vertical-align: top;\n",
       "    }\n",
       "\n",
       "    .dataframe thead th {\n",
       "        text-align: right;\n",
       "    }\n",
       "</style>\n",
       "<table border=\"1\" class=\"dataframe\">\n",
       "  <thead>\n",
       "    <tr style=\"text-align: right;\">\n",
       "      <th></th>\n",
       "      <th>ESTU_PRGM_ACADEMICO</th>\n",
       "      <th>ESTU_VALORMATRICULAUNIVERSIDAD</th>\n",
       "      <th>ESTU_HORASSEMANATRABAJA</th>\n",
       "      <th>FAMI_ESTRATOVIVIENDA</th>\n",
       "      <th>FAMI_TIENEINTERNET</th>\n",
       "      <th>FAMI_EDUCACIONPADRE</th>\n",
       "      <th>FAMI_EDUCACIONMADRE</th>\n",
       "      <th>ESTU_PAGOMATRICULAPROPIO</th>\n",
       "      <th>RENDIMIENTO_GLOBAL</th>\n",
       "      <th>ESTU_PRGM_DEPARTAMENTO_AMAZONAS</th>\n",
       "      <th>...</th>\n",
       "      <th>ESTU_PRGM_DEPARTAMENTO_NORTE SANTANDER</th>\n",
       "      <th>ESTU_PRGM_DEPARTAMENTO_PUTUMAYO</th>\n",
       "      <th>ESTU_PRGM_DEPARTAMENTO_QUINDIO</th>\n",
       "      <th>ESTU_PRGM_DEPARTAMENTO_RISARALDA</th>\n",
       "      <th>ESTU_PRGM_DEPARTAMENTO_SAN ANDRES</th>\n",
       "      <th>ESTU_PRGM_DEPARTAMENTO_SANTANDER</th>\n",
       "      <th>ESTU_PRGM_DEPARTAMENTO_SUCRE</th>\n",
       "      <th>ESTU_PRGM_DEPARTAMENTO_TOLIMA</th>\n",
       "      <th>ESTU_PRGM_DEPARTAMENTO_VALLE</th>\n",
       "      <th>ESTU_PRGM_DEPARTAMENTO_VAUPES</th>\n",
       "    </tr>\n",
       "  </thead>\n",
       "  <tbody>\n",
       "    <tr>\n",
       "      <th>0</th>\n",
       "      <td>300</td>\n",
       "      <td>5.5</td>\n",
       "      <td>10</td>\n",
       "      <td>3</td>\n",
       "      <td>1</td>\n",
       "      <td>5</td>\n",
       "      <td>9</td>\n",
       "      <td>0</td>\n",
       "      <td>3</td>\n",
       "      <td>0</td>\n",
       "      <td>...</td>\n",
       "      <td>0</td>\n",
       "      <td>0</td>\n",
       "      <td>0</td>\n",
       "      <td>0</td>\n",
       "      <td>0</td>\n",
       "      <td>0</td>\n",
       "      <td>0</td>\n",
       "      <td>0</td>\n",
       "      <td>0</td>\n",
       "      <td>0</td>\n",
       "    </tr>\n",
       "    <tr>\n",
       "      <th>1</th>\n",
       "      <td>249</td>\n",
       "      <td>2.5</td>\n",
       "      <td>0</td>\n",
       "      <td>3</td>\n",
       "      <td>0</td>\n",
       "      <td>6</td>\n",
       "      <td>5</td>\n",
       "      <td>0</td>\n",
       "      <td>1</td>\n",
       "      <td>0</td>\n",
       "      <td>...</td>\n",
       "      <td>0</td>\n",
       "      <td>0</td>\n",
       "      <td>0</td>\n",
       "      <td>0</td>\n",
       "      <td>0</td>\n",
       "      <td>0</td>\n",
       "      <td>0</td>\n",
       "      <td>0</td>\n",
       "      <td>0</td>\n",
       "      <td>0</td>\n",
       "    </tr>\n",
       "    <tr>\n",
       "      <th>2</th>\n",
       "      <td>819</td>\n",
       "      <td>2.5</td>\n",
       "      <td>30</td>\n",
       "      <td>3</td>\n",
       "      <td>1</td>\n",
       "      <td>4</td>\n",
       "      <td>4</td>\n",
       "      <td>0</td>\n",
       "      <td>1</td>\n",
       "      <td>0</td>\n",
       "      <td>...</td>\n",
       "      <td>0</td>\n",
       "      <td>0</td>\n",
       "      <td>0</td>\n",
       "      <td>0</td>\n",
       "      <td>0</td>\n",
       "      <td>0</td>\n",
       "      <td>0</td>\n",
       "      <td>0</td>\n",
       "      <td>0</td>\n",
       "      <td>0</td>\n",
       "    </tr>\n",
       "    <tr>\n",
       "      <th>3</th>\n",
       "      <td>14</td>\n",
       "      <td>4.0</td>\n",
       "      <td>0</td>\n",
       "      <td>4</td>\n",
       "      <td>1</td>\n",
       "      <td>0</td>\n",
       "      <td>4</td>\n",
       "      <td>0</td>\n",
       "      <td>4</td>\n",
       "      <td>0</td>\n",
       "      <td>...</td>\n",
       "      <td>0</td>\n",
       "      <td>0</td>\n",
       "      <td>0</td>\n",
       "      <td>0</td>\n",
       "      <td>0</td>\n",
       "      <td>1</td>\n",
       "      <td>0</td>\n",
       "      <td>0</td>\n",
       "      <td>0</td>\n",
       "      <td>0</td>\n",
       "    </tr>\n",
       "    <tr>\n",
       "      <th>4</th>\n",
       "      <td>907</td>\n",
       "      <td>2.5</td>\n",
       "      <td>21</td>\n",
       "      <td>3</td>\n",
       "      <td>1</td>\n",
       "      <td>2</td>\n",
       "      <td>2</td>\n",
       "      <td>0</td>\n",
       "      <td>2</td>\n",
       "      <td>0</td>\n",
       "      <td>...</td>\n",
       "      <td>0</td>\n",
       "      <td>0</td>\n",
       "      <td>0</td>\n",
       "      <td>0</td>\n",
       "      <td>0</td>\n",
       "      <td>0</td>\n",
       "      <td>0</td>\n",
       "      <td>0</td>\n",
       "      <td>0</td>\n",
       "      <td>0</td>\n",
       "    </tr>\n",
       "  </tbody>\n",
       "</table>\n",
       "<p>5 rows × 40 columns</p>\n",
       "</div>"
      ],
      "text/plain": [
       "   ESTU_PRGM_ACADEMICO  ESTU_VALORMATRICULAUNIVERSIDAD  \\\n",
       "0                  300                             5.5   \n",
       "1                  249                             2.5   \n",
       "2                  819                             2.5   \n",
       "3                   14                             4.0   \n",
       "4                  907                             2.5   \n",
       "\n",
       "   ESTU_HORASSEMANATRABAJA  FAMI_ESTRATOVIVIENDA  FAMI_TIENEINTERNET  \\\n",
       "0                       10                     3                   1   \n",
       "1                        0                     3                   0   \n",
       "2                       30                     3                   1   \n",
       "3                        0                     4                   1   \n",
       "4                       21                     3                   1   \n",
       "\n",
       "   FAMI_EDUCACIONPADRE  FAMI_EDUCACIONMADRE  ESTU_PAGOMATRICULAPROPIO  \\\n",
       "0                    5                    9                         0   \n",
       "1                    6                    5                         0   \n",
       "2                    4                    4                         0   \n",
       "3                    0                    4                         0   \n",
       "4                    2                    2                         0   \n",
       "\n",
       "   RENDIMIENTO_GLOBAL  ESTU_PRGM_DEPARTAMENTO_AMAZONAS  ...  \\\n",
       "0                   3                                0  ...   \n",
       "1                   1                                0  ...   \n",
       "2                   1                                0  ...   \n",
       "3                   4                                0  ...   \n",
       "4                   2                                0  ...   \n",
       "\n",
       "   ESTU_PRGM_DEPARTAMENTO_NORTE SANTANDER  ESTU_PRGM_DEPARTAMENTO_PUTUMAYO  \\\n",
       "0                                       0                                0   \n",
       "1                                       0                                0   \n",
       "2                                       0                                0   \n",
       "3                                       0                                0   \n",
       "4                                       0                                0   \n",
       "\n",
       "   ESTU_PRGM_DEPARTAMENTO_QUINDIO  ESTU_PRGM_DEPARTAMENTO_RISARALDA  \\\n",
       "0                               0                                 0   \n",
       "1                               0                                 0   \n",
       "2                               0                                 0   \n",
       "3                               0                                 0   \n",
       "4                               0                                 0   \n",
       "\n",
       "   ESTU_PRGM_DEPARTAMENTO_SAN ANDRES  ESTU_PRGM_DEPARTAMENTO_SANTANDER  \\\n",
       "0                                  0                                 0   \n",
       "1                                  0                                 0   \n",
       "2                                  0                                 0   \n",
       "3                                  0                                 1   \n",
       "4                                  0                                 0   \n",
       "\n",
       "   ESTU_PRGM_DEPARTAMENTO_SUCRE  ESTU_PRGM_DEPARTAMENTO_TOLIMA  \\\n",
       "0                             0                              0   \n",
       "1                             0                              0   \n",
       "2                             0                              0   \n",
       "3                             0                              0   \n",
       "4                             0                              0   \n",
       "\n",
       "   ESTU_PRGM_DEPARTAMENTO_VALLE  ESTU_PRGM_DEPARTAMENTO_VAUPES  \n",
       "0                             0                              0  \n",
       "1                             0                              0  \n",
       "2                             0                              0  \n",
       "3                             0                              0  \n",
       "4                             0                              0  \n",
       "\n",
       "[5 rows x 40 columns]"
      ]
     },
     "execution_count": 31,
     "metadata": {},
     "output_type": "execute_result"
    }
   ],
   "source": [
    "train = pd.get_dummies(train, columns=['ESTU_PRGM_DEPARTAMENTO'])\n",
    "train.head()\n",
    "train['ESTU_PRGM_ACADEMICO'] = train['ESTU_PRGM_ACADEMICO'].astype('category').cat.codes\n",
    "train.head()"
   ]
  },
  {
   "cell_type": "markdown",
   "metadata": {
    "id": "oLJ4-wdLkP96"
   },
   "source": [
    "Ahora normalizamos todas las columnas de 0 a 1\n"
   ]
  },
  {
   "cell_type": "code",
   "execution_count": 32,
   "metadata": {
    "colab": {
     "base_uri": "https://localhost:8080/",
     "height": 273
    },
    "id": "6ErMbSKxkdCa",
    "outputId": "39b441bf-83cc-4950-f390-5f6f6c9b6bd5"
   },
   "outputs": [
    {
     "data": {
      "text/html": [
       "<div>\n",
       "<style scoped>\n",
       "    .dataframe tbody tr th:only-of-type {\n",
       "        vertical-align: middle;\n",
       "    }\n",
       "\n",
       "    .dataframe tbody tr th {\n",
       "        vertical-align: top;\n",
       "    }\n",
       "\n",
       "    .dataframe thead th {\n",
       "        text-align: right;\n",
       "    }\n",
       "</style>\n",
       "<table border=\"1\" class=\"dataframe\">\n",
       "  <thead>\n",
       "    <tr style=\"text-align: right;\">\n",
       "      <th></th>\n",
       "      <th>ESTU_PRGM_ACADEMICO</th>\n",
       "      <th>ESTU_VALORMATRICULAUNIVERSIDAD</th>\n",
       "      <th>ESTU_HORASSEMANATRABAJA</th>\n",
       "      <th>FAMI_ESTRATOVIVIENDA</th>\n",
       "      <th>FAMI_TIENEINTERNET</th>\n",
       "      <th>FAMI_EDUCACIONPADRE</th>\n",
       "      <th>FAMI_EDUCACIONMADRE</th>\n",
       "      <th>ESTU_PAGOMATRICULAPROPIO</th>\n",
       "      <th>RENDIMIENTO_GLOBAL</th>\n",
       "      <th>ESTU_PRGM_DEPARTAMENTO_AMAZONAS</th>\n",
       "      <th>...</th>\n",
       "      <th>ESTU_PRGM_DEPARTAMENTO_NORTE SANTANDER</th>\n",
       "      <th>ESTU_PRGM_DEPARTAMENTO_PUTUMAYO</th>\n",
       "      <th>ESTU_PRGM_DEPARTAMENTO_QUINDIO</th>\n",
       "      <th>ESTU_PRGM_DEPARTAMENTO_RISARALDA</th>\n",
       "      <th>ESTU_PRGM_DEPARTAMENTO_SAN ANDRES</th>\n",
       "      <th>ESTU_PRGM_DEPARTAMENTO_SANTANDER</th>\n",
       "      <th>ESTU_PRGM_DEPARTAMENTO_SUCRE</th>\n",
       "      <th>ESTU_PRGM_DEPARTAMENTO_TOLIMA</th>\n",
       "      <th>ESTU_PRGM_DEPARTAMENTO_VALLE</th>\n",
       "      <th>ESTU_PRGM_DEPARTAMENTO_VAUPES</th>\n",
       "    </tr>\n",
       "  </thead>\n",
       "  <tbody>\n",
       "    <tr>\n",
       "      <th>0</th>\n",
       "      <td>0.316790</td>\n",
       "      <td>0.785714</td>\n",
       "      <td>0.333333</td>\n",
       "      <td>0.500000</td>\n",
       "      <td>1.0</td>\n",
       "      <td>0.555556</td>\n",
       "      <td>1.000000</td>\n",
       "      <td>0.0</td>\n",
       "      <td>3</td>\n",
       "      <td>0.0</td>\n",
       "      <td>...</td>\n",
       "      <td>0.0</td>\n",
       "      <td>0.0</td>\n",
       "      <td>0.0</td>\n",
       "      <td>0.0</td>\n",
       "      <td>0.0</td>\n",
       "      <td>0.0</td>\n",
       "      <td>0.0</td>\n",
       "      <td>0.0</td>\n",
       "      <td>0.0</td>\n",
       "      <td>0.0</td>\n",
       "    </tr>\n",
       "    <tr>\n",
       "      <th>1</th>\n",
       "      <td>0.262936</td>\n",
       "      <td>0.357143</td>\n",
       "      <td>0.000000</td>\n",
       "      <td>0.500000</td>\n",
       "      <td>0.0</td>\n",
       "      <td>0.666667</td>\n",
       "      <td>0.555556</td>\n",
       "      <td>0.0</td>\n",
       "      <td>1</td>\n",
       "      <td>0.0</td>\n",
       "      <td>...</td>\n",
       "      <td>0.0</td>\n",
       "      <td>0.0</td>\n",
       "      <td>0.0</td>\n",
       "      <td>0.0</td>\n",
       "      <td>0.0</td>\n",
       "      <td>0.0</td>\n",
       "      <td>0.0</td>\n",
       "      <td>0.0</td>\n",
       "      <td>0.0</td>\n",
       "      <td>0.0</td>\n",
       "    </tr>\n",
       "    <tr>\n",
       "      <th>2</th>\n",
       "      <td>0.864836</td>\n",
       "      <td>0.357143</td>\n",
       "      <td>1.000000</td>\n",
       "      <td>0.500000</td>\n",
       "      <td>1.0</td>\n",
       "      <td>0.444444</td>\n",
       "      <td>0.444444</td>\n",
       "      <td>0.0</td>\n",
       "      <td>1</td>\n",
       "      <td>0.0</td>\n",
       "      <td>...</td>\n",
       "      <td>0.0</td>\n",
       "      <td>0.0</td>\n",
       "      <td>0.0</td>\n",
       "      <td>0.0</td>\n",
       "      <td>0.0</td>\n",
       "      <td>0.0</td>\n",
       "      <td>0.0</td>\n",
       "      <td>0.0</td>\n",
       "      <td>0.0</td>\n",
       "      <td>0.0</td>\n",
       "    </tr>\n",
       "    <tr>\n",
       "      <th>3</th>\n",
       "      <td>0.014784</td>\n",
       "      <td>0.571429</td>\n",
       "      <td>0.000000</td>\n",
       "      <td>0.666667</td>\n",
       "      <td>1.0</td>\n",
       "      <td>0.000000</td>\n",
       "      <td>0.444444</td>\n",
       "      <td>0.0</td>\n",
       "      <td>4</td>\n",
       "      <td>0.0</td>\n",
       "      <td>...</td>\n",
       "      <td>0.0</td>\n",
       "      <td>0.0</td>\n",
       "      <td>0.0</td>\n",
       "      <td>0.0</td>\n",
       "      <td>0.0</td>\n",
       "      <td>1.0</td>\n",
       "      <td>0.0</td>\n",
       "      <td>0.0</td>\n",
       "      <td>0.0</td>\n",
       "      <td>0.0</td>\n",
       "    </tr>\n",
       "    <tr>\n",
       "      <th>4</th>\n",
       "      <td>0.957761</td>\n",
       "      <td>0.357143</td>\n",
       "      <td>0.700000</td>\n",
       "      <td>0.500000</td>\n",
       "      <td>1.0</td>\n",
       "      <td>0.222222</td>\n",
       "      <td>0.222222</td>\n",
       "      <td>0.0</td>\n",
       "      <td>2</td>\n",
       "      <td>0.0</td>\n",
       "      <td>...</td>\n",
       "      <td>0.0</td>\n",
       "      <td>0.0</td>\n",
       "      <td>0.0</td>\n",
       "      <td>0.0</td>\n",
       "      <td>0.0</td>\n",
       "      <td>0.0</td>\n",
       "      <td>0.0</td>\n",
       "      <td>0.0</td>\n",
       "      <td>0.0</td>\n",
       "      <td>0.0</td>\n",
       "    </tr>\n",
       "  </tbody>\n",
       "</table>\n",
       "<p>5 rows × 40 columns</p>\n",
       "</div>"
      ],
      "text/plain": [
       "   ESTU_PRGM_ACADEMICO  ESTU_VALORMATRICULAUNIVERSIDAD  \\\n",
       "0             0.316790                        0.785714   \n",
       "1             0.262936                        0.357143   \n",
       "2             0.864836                        0.357143   \n",
       "3             0.014784                        0.571429   \n",
       "4             0.957761                        0.357143   \n",
       "\n",
       "   ESTU_HORASSEMANATRABAJA  FAMI_ESTRATOVIVIENDA  FAMI_TIENEINTERNET  \\\n",
       "0                 0.333333              0.500000                 1.0   \n",
       "1                 0.000000              0.500000                 0.0   \n",
       "2                 1.000000              0.500000                 1.0   \n",
       "3                 0.000000              0.666667                 1.0   \n",
       "4                 0.700000              0.500000                 1.0   \n",
       "\n",
       "   FAMI_EDUCACIONPADRE  FAMI_EDUCACIONMADRE  ESTU_PAGOMATRICULAPROPIO  \\\n",
       "0             0.555556             1.000000                       0.0   \n",
       "1             0.666667             0.555556                       0.0   \n",
       "2             0.444444             0.444444                       0.0   \n",
       "3             0.000000             0.444444                       0.0   \n",
       "4             0.222222             0.222222                       0.0   \n",
       "\n",
       "   RENDIMIENTO_GLOBAL  ESTU_PRGM_DEPARTAMENTO_AMAZONAS  ...  \\\n",
       "0                   3                              0.0  ...   \n",
       "1                   1                              0.0  ...   \n",
       "2                   1                              0.0  ...   \n",
       "3                   4                              0.0  ...   \n",
       "4                   2                              0.0  ...   \n",
       "\n",
       "   ESTU_PRGM_DEPARTAMENTO_NORTE SANTANDER  ESTU_PRGM_DEPARTAMENTO_PUTUMAYO  \\\n",
       "0                                     0.0                              0.0   \n",
       "1                                     0.0                              0.0   \n",
       "2                                     0.0                              0.0   \n",
       "3                                     0.0                              0.0   \n",
       "4                                     0.0                              0.0   \n",
       "\n",
       "   ESTU_PRGM_DEPARTAMENTO_QUINDIO  ESTU_PRGM_DEPARTAMENTO_RISARALDA  \\\n",
       "0                             0.0                               0.0   \n",
       "1                             0.0                               0.0   \n",
       "2                             0.0                               0.0   \n",
       "3                             0.0                               0.0   \n",
       "4                             0.0                               0.0   \n",
       "\n",
       "   ESTU_PRGM_DEPARTAMENTO_SAN ANDRES  ESTU_PRGM_DEPARTAMENTO_SANTANDER  \\\n",
       "0                                0.0                               0.0   \n",
       "1                                0.0                               0.0   \n",
       "2                                0.0                               0.0   \n",
       "3                                0.0                               1.0   \n",
       "4                                0.0                               0.0   \n",
       "\n",
       "   ESTU_PRGM_DEPARTAMENTO_SUCRE  ESTU_PRGM_DEPARTAMENTO_TOLIMA  \\\n",
       "0                           0.0                            0.0   \n",
       "1                           0.0                            0.0   \n",
       "2                           0.0                            0.0   \n",
       "3                           0.0                            0.0   \n",
       "4                           0.0                            0.0   \n",
       "\n",
       "   ESTU_PRGM_DEPARTAMENTO_VALLE  ESTU_PRGM_DEPARTAMENTO_VAUPES  \n",
       "0                           0.0                            0.0  \n",
       "1                           0.0                            0.0  \n",
       "2                           0.0                            0.0  \n",
       "3                           0.0                            0.0  \n",
       "4                           0.0                            0.0  \n",
       "\n",
       "[5 rows x 40 columns]"
      ]
     },
     "execution_count": 32,
     "metadata": {},
     "output_type": "execute_result"
    }
   ],
   "source": [
    "maxim = train.max()\n",
    "minim = train.min()\n",
    "for i in train.columns:\n",
    "  if i != 'RENDIMIENTO_GLOBAL' and type(maxim[i]) != np.bool_:\n",
    "    train[i] = train[i].apply(lambda x: (x-minim[i])/(maxim[i]-minim[i]))\n",
    "train.head()\n"
   ]
  },
  {
   "cell_type": "markdown",
   "metadata": {
    "id": "hhk7e1NDo1Dl"
   },
   "source": [
    "Por ultimo revisamos las correlaciones"
   ]
  },
  {
   "cell_type": "code",
   "execution_count": 33,
   "metadata": {
    "colab": {
     "base_uri": "https://localhost:8080/",
     "height": 579
    },
    "id": "fzcJwj_hpu6B",
    "outputId": "1426438a-b3ff-4023-e98a-94fb897ff1d4"
   },
   "outputs": [
    {
     "data": {
      "image/png": "[encoded data removed]",
      "text/plain": [
       "<Figure size 640x480 with 2 Axes>"
      ]
     },
     "metadata": {},
     "output_type": "display_data"
    }
   ],
   "source": [
    "corr_matrix = np.abs(train.corr())\n",
    "top = corr_matrix['RENDIMIENTO_GLOBAL'].sort_values(ascending=False)[0:8].index\n",
    "corr_matrix = corr_matrix.loc[top, top]\n",
    "sns.heatmap(corr_matrix, annot=True, cmap='coolwarm', fmt='.2f')\n",
    "plt.title(\"Matriz de correlaciones\")\n",
    "plt.show()"
   ]
  },
  {
   "cell_type": "markdown",
   "metadata": {
    "id": "MXJWxv_FqHtI"
   },
   "source": [
    "Es importante notar aqui al final que los valores obtenidos de correlacion han mejorado respecto a la exploración, esto puede ser en gran medida porque los valores fueron tratados de mejor manera por lo que puede que los pesos de cada valor tengan un mayor sentido."
   ]
  },
  {
   "cell_type": "markdown",
   "metadata": {
    "id": "G11_M-wGqRjQ"
   },
   "source": [
    "![image.png](data:image/png;base64,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)\n",
    "![image.png](data:image/png;base64,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)"
   ]
  },
  {
   "cell_type": "markdown",
   "metadata": {
    "id": "Ib0ZW2RJwjgN"
   },
   "source": [
    "Por ultimo exportamos los datos"
   ]
  },
  {
   "cell_type": "code",
   "execution_count": 34,
   "metadata": {
    "id": "253_Zc5KwYTN"
   },
   "outputs": [],
   "source": [
    "train.to_csv(\"preprocesados.csv\", index=False)"
   ]
  },
  {
   "cell_type": "markdown",
   "metadata": {},
   "source": [
    "ENTRENAMIENTO DEL MODELO Y METRICAS"
   ]
  },
  {
   "cell_type": "code",
   "execution_count": 35,
   "metadata": {},
   "outputs": [],
   "source": [
    "import numpy as np\n",
    "import pandas as pd\n",
    "import matplotlib.pyplot as plt\n",
    "from sklearn.model_selection import learning_curve,train_test_split,cross_validate, ShuffleSplit,GridSearchCV\n",
    "from sklearn.ensemble import RandomForestClassifier\n",
    "from sklearn.metrics import mean_squared_error,average_precision_score,mean_absolute_error,r2_score,confusion_matrix,classification_report\n",
    "import seaborn as sns\n",
    "from sklearn.preprocessing import StandardScaler,MinMaxScaler\n",
    "from sklearn.svm import LinearSVC\n",
    "import textwrap\n",
    "from itertools import product\n",
    "from sklearn.metrics import f1_score,accuracy_score,recall_score\n"
   ]
  },
  {
   "cell_type": "code",
   "execution_count": 36,
   "metadata": {},
   "outputs": [],
   "source": [
    "def report_cv_score(z):\n",
    "    \n",
    "    #RMSE en prueba y entrenamiento\n",
    "    f1_ts_score = z['test_score']\n",
    "    f1_tr_score = z['train_score']\n",
    "    \n",
    "    print(\"f1 Test: \", \"{:.5f}\".format(np.mean(f1_ts_score)), \"(±\", \"{:.8f}\".format(np.std(f1_ts_score)),\")\")\n",
    "    print(\"f1 Train: \", \"{:.5f}\".format(np.mean(f1_ts_score)), \"(±\", \"{:.8f}\".format(np.std(f1_ts_score)),\")\")"
   ]
  },
  {
   "cell_type": "code",
   "execution_count": 37,
   "metadata": {},
   "outputs": [],
   "source": [
    "#Función para calcular el RMSLE de los modelos implementados\n",
    "def RMSLE(y_actual, y_pred): \n",
    "    return f1_score(y_actual, y_pred,average=\"weighted\")"
   ]
  },
  {
   "cell_type": "code",
   "execution_count": 38,
   "metadata": {},
   "outputs": [],
   "source": [
    "X = train.drop(['RENDIMIENTO_GLOBAL'],axis = 1)\n",
    "y = train['RENDIMIENTO_GLOBAL'].values"
   ]
  },
  {
   "cell_type": "code",
   "execution_count": 39,
   "metadata": {},
   "outputs": [
    {
     "name": "stdout",
     "output_type": "stream",
     "text": [
      "(692500, 39) (692500,)\n",
      "test size 0.30\n",
      "val size is 0.43 (relative to 0.70) \n",
      "(484750, 39) (207750, 39)\n"
     ]
    }
   ],
   "source": [
    "#--------Partición de los datos------------\n",
    "\n",
    "test_size = 0.3\n",
    "val_size  = test_size/(1-test_size) # Elementos de validación\n",
    "\n",
    "print (X.shape, y.shape)\n",
    "print (\"test size %.2f\"%test_size)\n",
    "print (\"val size is %.2f (relative to %.2f) \"%(val_size, 1-test_size))\n",
    "\n",
    "#Xtv, ytv son los datos que se usan para entrenar el modelo\n",
    "#Xts, yts son los datos que se usan para probar el modelo (solo se usan para el testeo final de los modelos que se seleccionen)\n",
    "Xtv, Xts, ytv, yts = train_test_split(X, y, test_size=test_size)\n",
    "print (Xtv.shape, Xts.shape)"
   ]
  },
  {
   "cell_type": "code",
   "execution_count": 40,
   "metadata": {},
   "outputs": [],
   "source": [
    "Modelo2 = LinearSVC(max_iter=5000)\n",
    "Modelo3= RandomForestClassifier(n_estimators = 2,max_depth = 5)"
   ]
  },
  {
   "cell_type": "code",
   "execution_count": 41,
   "metadata": {},
   "outputs": [
    {
     "name": "stderr",
     "output_type": "stream",
     "text": [
      "c:\\Users\\Sherlyn\\AppData\\Local\\Programs\\Orange\\Lib\\site-packages\\sklearn\\svm\\_classes.py:32: FutureWarning: The default value of `dual` will change from `True` to `'auto'` in 1.5. Set the value of `dual` explicitly to suppress the warning.\n",
      "  warnings.warn(\n"
     ]
    },
    {
     "data": {
      "text/html": [
       "<div>\n",
       "<style scoped>\n",
       "    .dataframe tbody tr th:only-of-type {\n",
       "        vertical-align: middle;\n",
       "    }\n",
       "\n",
       "    .dataframe tbody tr th {\n",
       "        vertical-align: top;\n",
       "    }\n",
       "\n",
       "    .dataframe thead th {\n",
       "        text-align: right;\n",
       "    }\n",
       "</style>\n",
       "<table border=\"1\" class=\"dataframe\">\n",
       "  <thead>\n",
       "    <tr style=\"text-align: right;\">\n",
       "      <th></th>\n",
       "      <th>Model</th>\n",
       "      <th>RMSE</th>\n",
       "      <th>R2 Score</th>\n",
       "      <th>Accuracy</th>\n",
       "      <th>F1 score</th>\n",
       "      <th>Recall</th>\n",
       "    </tr>\n",
       "  </thead>\n",
       "  <tbody>\n",
       "    <tr>\n",
       "      <th>0</th>\n",
       "      <td>SVR</td>\n",
       "      <td>1.453956</td>\n",
       "      <td>-0.679343</td>\n",
       "      <td>0.368679</td>\n",
       "      <td>0.315501</td>\n",
       "      <td>0.368679</td>\n",
       "    </tr>\n",
       "  </tbody>\n",
       "</table>\n",
       "</div>"
      ],
      "text/plain": [
       "  Model      RMSE  R2 Score  Accuracy  F1 score    Recall\n",
       "0   SVR  1.453956 -0.679343  0.368679  0.315501  0.368679"
      ]
     },
     "execution_count": 41,
     "metadata": {},
     "output_type": "execute_result"
    }
   ],
   "source": [
    "def train_test_evaluate(model_name, model, X_train, y_train, X_test, y_test):\n",
    "    # Entrenar el modelo con los datos de entrenamiento\n",
    "    model.fit(X_train, y_train)\n",
    "    y_pred = model.predict(X_test)\n",
    "    \n",
    "    rmse = mean_squared_error(y_test, y_pred, squared=False)\n",
    "    r2 = r2_score(y_test, y_pred)\n",
    "    accuracy = accuracy_score(y_test,y_pred)\n",
    "    F1= f1_score(y_test, y_pred,average=\"weighted\")\n",
    "    recall = recall_score(y_test,y_pred,average=\"weighted\")\n",
    "    \n",
    "    result_df = pd.DataFrame(\n",
    "        data=[[model_name, rmse, r2 , accuracy, F1 ,recall]],\n",
    "        columns=[\"Model\",'RMSE', 'R2 Score', \"Accuracy\", \"F1 score\", \"Recall\"]\n",
    "    )\n",
    "    return result_df\n",
    "\n",
    "train_test_evaluate(\"SVR\",Modelo2,Xtv,ytv,Xts,yts)\n"
   ]
  },
  {
   "cell_type": "code",
   "execution_count": 42,
   "metadata": {},
   "outputs": [
    {
     "data": {
      "text/html": [
       "<div>\n",
       "<style scoped>\n",
       "    .dataframe tbody tr th:only-of-type {\n",
       "        vertical-align: middle;\n",
       "    }\n",
       "\n",
       "    .dataframe tbody tr th {\n",
       "        vertical-align: top;\n",
       "    }\n",
       "\n",
       "    .dataframe thead th {\n",
       "        text-align: right;\n",
       "    }\n",
       "</style>\n",
       "<table border=\"1\" class=\"dataframe\">\n",
       "  <thead>\n",
       "    <tr style=\"text-align: right;\">\n",
       "      <th></th>\n",
       "      <th>Model</th>\n",
       "      <th>RMSE</th>\n",
       "      <th>R2 Score</th>\n",
       "      <th>Accuracy</th>\n",
       "      <th>F1 score</th>\n",
       "      <th>Recall</th>\n",
       "    </tr>\n",
       "  </thead>\n",
       "  <tbody>\n",
       "    <tr>\n",
       "      <th>0</th>\n",
       "      <td>RandomForest</td>\n",
       "      <td>1.548418</td>\n",
       "      <td>-0.904642</td>\n",
       "      <td>0.342484</td>\n",
       "      <td>0.282535</td>\n",
       "      <td>0.342484</td>\n",
       "    </tr>\n",
       "  </tbody>\n",
       "</table>\n",
       "</div>"
      ],
      "text/plain": [
       "          Model      RMSE  R2 Score  Accuracy  F1 score    Recall\n",
       "0  RandomForest  1.548418 -0.904642  0.342484  0.282535  0.342484"
      ]
     },
     "execution_count": 42,
     "metadata": {},
     "output_type": "execute_result"
    }
   ],
   "source": [
    "train_test_evaluate(\"RandomForest\",Modelo3,Xtv,ytv,Xts,yts)"
   ]
  },
  {
   "cell_type": "code",
   "execution_count": 43,
   "metadata": {},
   "outputs": [
    {
     "name": "stdout",
     "output_type": "stream",
     "text": [
      "---------\n",
      "f1 Test:  0.31937 (± 0.01889472 )\n",
      "f1 Train:  0.31937 (± 0.01889472 )\n",
      "---------\n"
     ]
    },
    {
     "name": "stderr",
     "output_type": "stream",
     "text": [
      "c:\\Users\\Sherlyn\\AppData\\Local\\Programs\\Orange\\Lib\\site-packages\\sklearn\\svm\\_classes.py:32: FutureWarning: The default value of `dual` will change from `True` to `'auto'` in 1.5. Set the value of `dual` explicitly to suppress the warning.\n",
      "  warnings.warn(\n",
      "c:\\Users\\Sherlyn\\AppData\\Local\\Programs\\Orange\\Lib\\site-packages\\sklearn\\svm\\_classes.py:32: FutureWarning: The default value of `dual` will change from `True` to `'auto'` in 1.5. Set the value of `dual` explicitly to suppress the warning.\n",
      "  warnings.warn(\n",
      "c:\\Users\\Sherlyn\\AppData\\Local\\Programs\\Orange\\Lib\\site-packages\\sklearn\\svm\\_classes.py:32: FutureWarning: The default value of `dual` will change from `True` to `'auto'` in 1.5. Set the value of `dual` explicitly to suppress the warning.\n",
      "  warnings.warn(\n",
      "c:\\Users\\Sherlyn\\AppData\\Local\\Programs\\Orange\\Lib\\site-packages\\sklearn\\svm\\_classes.py:32: FutureWarning: The default value of `dual` will change from `True` to `'auto'` in 1.5. Set the value of `dual` explicitly to suppress the warning.\n",
      "  warnings.warn(\n",
      "c:\\Users\\Sherlyn\\AppData\\Local\\Programs\\Orange\\Lib\\site-packages\\sklearn\\svm\\_classes.py:32: FutureWarning: The default value of `dual` will change from `True` to `'auto'` in 1.5. Set the value of `dual` explicitly to suppress the warning.\n",
      "  warnings.warn(\n",
      "c:\\Users\\Sherlyn\\AppData\\Local\\Programs\\Orange\\Lib\\site-packages\\sklearn\\svm\\_classes.py:32: FutureWarning: The default value of `dual` will change from `True` to `'auto'` in 1.5. Set the value of `dual` explicitly to suppress the warning.\n",
      "  warnings.warn(\n",
      "c:\\Users\\Sherlyn\\AppData\\Local\\Programs\\Orange\\Lib\\site-packages\\sklearn\\svm\\_classes.py:32: FutureWarning: The default value of `dual` will change from `True` to `'auto'` in 1.5. Set the value of `dual` explicitly to suppress the warning.\n",
      "  warnings.warn(\n",
      "c:\\Users\\Sherlyn\\AppData\\Local\\Programs\\Orange\\Lib\\site-packages\\sklearn\\svm\\_classes.py:32: FutureWarning: The default value of `dual` will change from `True` to `'auto'` in 1.5. Set the value of `dual` explicitly to suppress the warning.\n",
      "  warnings.warn(\n",
      "c:\\Users\\Sherlyn\\AppData\\Local\\Programs\\Orange\\Lib\\site-packages\\sklearn\\svm\\_classes.py:32: FutureWarning: The default value of `dual` will change from `True` to `'auto'` in 1.5. Set the value of `dual` explicitly to suppress the warning.\n",
      "  warnings.warn(\n",
      "c:\\Users\\Sherlyn\\AppData\\Local\\Programs\\Orange\\Lib\\site-packages\\sklearn\\svm\\_classes.py:32: FutureWarning: The default value of `dual` will change from `True` to `'auto'` in 1.5. Set the value of `dual` explicitly to suppress the warning.\n",
      "  warnings.warn(\n"
     ]
    },
    {
     "name": "stdout",
     "output_type": "stream",
     "text": [
      "f1 Test:  0.31479 (± 0.00273333 )\n",
      "f1 Train:  0.31479 (± 0.00273333 )\n"
     ]
    },
    {
     "name": "stderr",
     "output_type": "stream",
     "text": [
      "c:\\Users\\Sherlyn\\AppData\\Local\\Programs\\Orange\\Lib\\site-packages\\sklearn\\svm\\_classes.py:32: FutureWarning: The default value of `dual` will change from `True` to `'auto'` in 1.5. Set the value of `dual` explicitly to suppress the warning.\n",
      "  warnings.warn(\n",
      "c:\\Users\\Sherlyn\\AppData\\Local\\Programs\\Orange\\Lib\\site-packages\\sklearn\\svm\\_classes.py:32: FutureWarning: The default value of `dual` will change from `True` to `'auto'` in 1.5. Set the value of `dual` explicitly to suppress the warning.\n",
      "  warnings.warn(\n"
     ]
    },
    {
     "name": "stdout",
     "output_type": "stream",
     "text": [
      "Seleccionado:  1\n",
      "\n",
      " Mejor modelo: \n",
      "LinearSVC(max_iter=5000)\n"
     ]
    }
   ],
   "source": [
    "zscores = []\n",
    "estimators = [Modelo3, Modelo2]\n",
    "names=[\"Random Forest inicial\",\"LinearSVR inicial\"]\n",
    "for i in range(len(estimators)):\n",
    "    print(\"---------\")\n",
    "    z = cross_validate(estimators[i], Xtv, ytv, return_train_score=True, return_estimator=False,\n",
    "                       scoring='f1_weighted', cv=ShuffleSplit(n_splits=10, test_size=val_size))\n",
    "    report_cv_score(z)\n",
    "    zscores.append(np.mean(z['test_score']))\n",
    "    if i==0:\n",
    "        estimators[i].fit(Xtv, ytv)\n",
    "        result_df= train_test_evaluate(names[i], estimators[i], Xtv, ytv, Xts, yts)\n",
    "    else:\n",
    "        estimators[i].fit(Xtv, ytv)\n",
    "        df1=train_test_evaluate(names[i], estimators[i], Xtv, ytv, Xts, yts)\n",
    "        result_df=pd.concat([result_df,df1],ignore_index=True)\n",
    "\n",
    "    \n",
    "best = np.argmin(zscores)\n",
    "print (\"Seleccionado: \", best)\n",
    "best_estimator = estimators[best]\n",
    "print (\"\\n Mejor modelo: \")\n",
    "print (best_estimator)"
   ]
  },
  {
   "cell_type": "code",
   "execution_count": 45,
   "metadata": {},
   "outputs": [
    {
     "name": "stdout",
     "output_type": "stream",
     "text": [
      "Fitting 5 folds for each of 20 candidates, totalling 100 fits\n"
     ]
    },
    {
     "data": {
      "text/html": [
       "<style>#sk-container-id-1 {color: black;}#sk-container-id-1 pre{padding: 0;}#sk-container-id-1 div.sk-toggleable {background-color: white;}#sk-container-id-1 label.sk-toggleable__label {cursor: pointer;display: block;width: 100%;margin-bottom: 0;padding: 0.3em;box-sizing: border-box;text-align: center;}#sk-container-id-1 label.sk-toggleable__label-arrow:before {content: \"▸\";float: left;margin-right: 0.25em;color: #696969;}#sk-container-id-1 label.sk-toggleable__label-arrow:hover:before {color: black;}#sk-container-id-1 div.sk-estimator:hover label.sk-toggleable__label-arrow:before {color: black;}#sk-container-id-1 div.sk-toggleable__content {max-height: 0;max-width: 0;overflow: hidden;text-align: left;background-color: #f0f8ff;}#sk-container-id-1 div.sk-toggleable__content pre {margin: 0.2em;color: black;border-radius: 0.25em;background-color: #f0f8ff;}#sk-container-id-1 input.sk-toggleable__control:checked~div.sk-toggleable__content {max-height: 200px;max-width: 100%;overflow: auto;}#sk-container-id-1 input.sk-toggleable__control:checked~label.sk-toggleable__label-arrow:before {content: \"▾\";}#sk-container-id-1 div.sk-estimator input.sk-toggleable__control:checked~label.sk-toggleable__label {background-color: #d4ebff;}#sk-container-id-1 div.sk-label input.sk-toggleable__control:checked~label.sk-toggleable__label {background-color: #d4ebff;}#sk-container-id-1 input.sk-hidden--visually {border: 0;clip: rect(1px 1px 1px 1px);clip: rect(1px, 1px, 1px, 1px);height: 1px;margin: -1px;overflow: hidden;padding: 0;position: absolute;width: 1px;}#sk-container-id-1 div.sk-estimator {font-family: monospace;background-color: #f0f8ff;border: 1px dotted black;border-radius: 0.25em;box-sizing: border-box;margin-bottom: 0.5em;}#sk-container-id-1 div.sk-estimator:hover {background-color: #d4ebff;}#sk-container-id-1 div.sk-parallel-item::after {content: \"\";width: 100%;border-bottom: 1px solid gray;flex-grow: 1;}#sk-container-id-1 div.sk-label:hover label.sk-toggleable__label {background-color: #d4ebff;}#sk-container-id-1 div.sk-serial::before {content: \"\";position: absolute;border-left: 1px solid gray;box-sizing: border-box;top: 0;bottom: 0;left: 50%;z-index: 0;}#sk-container-id-1 div.sk-serial {display: flex;flex-direction: column;align-items: center;background-color: white;padding-right: 0.2em;padding-left: 0.2em;position: relative;}#sk-container-id-1 div.sk-item {position: relative;z-index: 1;}#sk-container-id-1 div.sk-parallel {display: flex;align-items: stretch;justify-content: center;background-color: white;position: relative;}#sk-container-id-1 div.sk-item::before, #sk-container-id-1 div.sk-parallel-item::before {content: \"\";position: absolute;border-left: 1px solid gray;box-sizing: border-box;top: 0;bottom: 0;left: 50%;z-index: -1;}#sk-container-id-1 div.sk-parallel-item {display: flex;flex-direction: column;z-index: 1;position: relative;background-color: white;}#sk-container-id-1 div.sk-parallel-item:first-child::after {align-self: flex-end;width: 50%;}#sk-container-id-1 div.sk-parallel-item:last-child::after {align-self: flex-start;width: 50%;}#sk-container-id-1 div.sk-parallel-item:only-child::after {width: 0;}#sk-container-id-1 div.sk-dashed-wrapped {border: 1px dashed gray;margin: 0 0.4em 0.5em 0.4em;box-sizing: border-box;padding-bottom: 0.4em;background-color: white;}#sk-container-id-1 div.sk-label label {font-family: monospace;font-weight: bold;display: inline-block;line-height: 1.2em;}#sk-container-id-1 div.sk-label-container {text-align: center;}#sk-container-id-1 div.sk-container {/* jupyter's `normalize.less` sets `[hidden] { display: none; }` but bootstrap.min.css set `[hidden] { display: none !important; }` so we also need the `!important` here to be able to override the default hidden behavior on the sphinx rendered scikit-learn.org. See: https://github.com/scikit-learn/scikit-learn/issues/21755 */display: inline-block !important;position: relative;}#sk-container-id-1 div.sk-text-repr-fallback {display: none;}</style><div id=\"sk-container-id-1\" class=\"sk-top-container\"><div class=\"sk-text-repr-fallback\"><pre>GridSearchCV(cv=ShuffleSplit(n_splits=5, random_state=None, test_size=0.4285714285714286,\n",
       "       train_size=None),\n",
       "             estimator=RandomForestClassifier(max_depth=5, n_estimators=2),\n",
       "             n_jobs=-1,\n",
       "             param_grid={&#x27;max_depth&#x27;: [11, 13, 15, 17, 19],\n",
       "                         &#x27;min_samples_leaf&#x27;: [1, 2], &#x27;n_estimators&#x27;: [20, 40],\n",
       "                         &#x27;random_state&#x27;: [23]},\n",
       "             scoring=&#x27;f1_weighted&#x27;, verbose=2)</pre><b>In a Jupyter environment, please rerun this cell to show the HTML representation or trust the notebook. <br />On GitHub, the HTML representation is unable to render, please try loading this page with nbviewer.org.</b></div><div class=\"sk-container\" hidden><div class=\"sk-item sk-dashed-wrapped\"><div class=\"sk-label-container\"><div class=\"sk-label sk-toggleable\"><input class=\"sk-toggleable__control sk-hidden--visually\" id=\"sk-estimator-id-1\" type=\"checkbox\" ><label for=\"sk-estimator-id-1\" class=\"sk-toggleable__label sk-toggleable__label-arrow\">GridSearchCV</label><div class=\"sk-toggleable__content\"><pre>GridSearchCV(cv=ShuffleSplit(n_splits=5, random_state=None, test_size=0.4285714285714286,\n",
       "       train_size=None),\n",
       "             estimator=RandomForestClassifier(max_depth=5, n_estimators=2),\n",
       "             n_jobs=-1,\n",
       "             param_grid={&#x27;max_depth&#x27;: [11, 13, 15, 17, 19],\n",
       "                         &#x27;min_samples_leaf&#x27;: [1, 2], &#x27;n_estimators&#x27;: [20, 40],\n",
       "                         &#x27;random_state&#x27;: [23]},\n",
       "             scoring=&#x27;f1_weighted&#x27;, verbose=2)</pre></div></div></div><div class=\"sk-parallel\"><div class=\"sk-parallel-item\"><div class=\"sk-item\"><div class=\"sk-label-container\"><div class=\"sk-label sk-toggleable\"><input class=\"sk-toggleable__control sk-hidden--visually\" id=\"sk-estimator-id-2\" type=\"checkbox\" ><label for=\"sk-estimator-id-2\" class=\"sk-toggleable__label sk-toggleable__label-arrow\">estimator: RandomForestClassifier</label><div class=\"sk-toggleable__content\"><pre>RandomForestClassifier(max_depth=5, n_estimators=2)</pre></div></div></div><div class=\"sk-serial\"><div class=\"sk-item\"><div class=\"sk-estimator sk-toggleable\"><input class=\"sk-toggleable__control sk-hidden--visually\" id=\"sk-estimator-id-3\" type=\"checkbox\" ><label for=\"sk-estimator-id-3\" class=\"sk-toggleable__label sk-toggleable__label-arrow\">RandomForestClassifier</label><div class=\"sk-toggleable__content\"><pre>RandomForestClassifier(max_depth=5, n_estimators=2)</pre></div></div></div></div></div></div></div></div></div></div>"
      ],
      "text/plain": [
       "GridSearchCV(cv=ShuffleSplit(n_splits=5, random_state=None, test_size=0.4285714285714286,\n",
       "       train_size=None),\n",
       "             estimator=RandomForestClassifier(max_depth=5, n_estimators=2),\n",
       "             n_jobs=-1,\n",
       "             param_grid={'max_depth': [11, 13, 15, 17, 19],\n",
       "                         'min_samples_leaf': [1, 2], 'n_estimators': [20, 40],\n",
       "                         'random_state': [23]},\n",
       "             scoring='f1_weighted', verbose=2)"
      ]
     },
     "execution_count": 45,
     "metadata": {},
     "output_type": "execute_result"
    }
   ],
   "source": [
    "\n",
    "parametros = {\n",
    "    \"n_estimators\": list(range(20, 41, 20)),\n",
    "    \"max_depth\": list(range(11, 20, 2)),\n",
    "    \"min_samples_leaf\": list(range(1, 3)),\n",
    "    \"random_state\": [23]\n",
    "}\n",
    "\n",
    "forest_reg = GridSearchCV(estimator = Modelo3,\n",
    "                        param_grid = parametros,\n",
    "                        cv = ShuffleSplit(n_splits= 5, test_size=val_size), \n",
    "                        scoring = 'f1_weighted',\n",
    "                        verbose = 2,\n",
    "                        n_jobs=-1)\n",
    "forest_reg.fit(Xtv, ytv)"
   ]
  },
  {
   "cell_type": "code",
   "execution_count": 46,
   "metadata": {},
   "outputs": [],
   "source": [
    "Rdm_forest = RandomForestClassifier(n_estimators =forest_reg.best_params_[\"n_estimators\"]\n",
    "                                    ,max_depth = forest_reg.best_params_[\"max_depth\"]\n",
    "                                    ,min_samples_leaf=forest_reg.best_params_[\"min_samples_leaf\"],\n",
    "                                    random_state=forest_reg.best_params_[\"random_state\"])"
   ]
  },
  {
   "cell_type": "code",
   "execution_count": null,
   "metadata": {},
   "outputs": [
    {
     "data": {
      "image/png": "[encoded data removed]",
      "text/plain": [
       "<Figure size 1000x600 with 1 Axes>"
      ]
     },
     "metadata": {},
     "output_type": "display_data"
    }
   ],
   "source": [
    "import matplotlib.pyplot as plt\n",
    "from sklearn.model_selection import learning_curve\n",
    "\n",
    "train_sizes, train_scores, test_scores = learning_curve(\n",
    "    Rdm_forest, Xtv, ytv, cv=5, scoring='neg_log_loss', #funcion de perdida de crossentropia\n",
    "    train_sizes=np.linspace(0.1, 1.0, 10), n_jobs=-1\n",
    ")\n",
    "\n",
    "train_crosse = -train_scores\n",
    "test_crosse = -test_scores\n",
    "\n",
    "# Graficar la curva de aprendizaje\n",
    "plt.figure(figsize=(10,6))\n",
    "\n",
    "plt.plot(train_sizes, train_crosse.mean(axis=1), label=\"Entrenamiento\", color='blue')\n",
    "plt.plot(train_sizes, test_crosse.mean(axis=1), label=\"Validación\", color='green')\n",
    "plt.fill_between(train_sizes, train_crosse.mean(axis=1) - train_crosse.std(axis=1), \n",
    "                 train_crosse.mean(axis=1) + train_crosse.std(axis=1), alpha=0.2, color='blue')\n",
    "plt.fill_between(train_sizes, test_crosse.mean(axis=1) - test_crosse.std(axis=1), \n",
    "                 test_crosse.mean(axis=1) + test_crosse.std(axis=1), alpha=0.2, color='green')\n",
    "\n",
    "plt.title('Curva de Aprendizaje - Decision Tree')\n",
    "plt.xlabel('Tamaño del Conjunto de Entrenamiento')\n",
    "plt.ylabel('cross entropy loss')\n",
    "plt.legend()\n",
    "plt.grid(True)\n",
    "plt.show()"
   ]
  },
  {
   "cell_type": "code",
   "execution_count": null,
   "metadata": {},
   "outputs": [],
   "source": []
  },
  {
   "cell_type": "code",
   "execution_count": null,
   "metadata": {},
   "outputs": [],
   "source": []
  }
 ],
 "metadata": {
  "colab": {
   "provenance": []
  },
  "kernelspec": {
   "display_name": "Python 3",
   "name": "python3"
  },
  "language_info": {
   "codemirror_mode": {
    "name": "ipython",
    "version": 3
   },
   "file_extension": ".py",
   "mimetype": "text/x-python",
   "name": "python",
   "nbconvert_exporter": "python",
   "pygments_lexer": "ipython3",
   "version": "3.11.8"
  }
 },
 "nbformat": 4,
 "nbformat_minor": 0
}
