{
 "cells": [
  {
   "cell_type": "markdown",
   "metadata": {},
   "source": [
    "<a href=\"https://githubtocolab.com/Sher016/IA/blob/main/01%20-%20exploración.ipynb\" target=\"_parent\"><img src=\"https://colab.research.google.com/assets/colab-badge.svg\" alt=\"Open in Colab\"/></a>"
   ]
  },
  {
   "cell_type": "code",
   "execution_count": 105,
   "metadata": {},
   "outputs": [],
   "source": [
    "import zipfile \n",
    "import pandas as pd"
   ]
  },
  {
   "cell_type": "markdown",
   "metadata": {},
   "source": [
    "Preprocesado de los datos de entrenamiento"
   ]
  },
  {
   "cell_type": "code",
   "execution_count": 106,
   "metadata": {},
   "outputs": [],
   "source": [
    "import numpy as np\n",
    "import pandas as pd\n",
    "import matplotlib.pyplot as plt \n",
    "import seaborn as sns\n",
    "import sklearn as sk\n",
    "from sklearn import preprocessing as ps\n",
    "from difflib import SequenceMatcher"
   ]
  },
  {
   "cell_type": "code",
   "execution_count": 107,
   "metadata": {},
   "outputs": [
    {
     "data": {
      "text/html": [
       "<div>\n",
       "<style scoped>\n",
       "    .dataframe tbody tr th:only-of-type {\n",
       "        vertical-align: middle;\n",
       "    }\n",
       "\n",
       "    .dataframe tbody tr th {\n",
       "        vertical-align: top;\n",
       "    }\n",
       "\n",
       "    .dataframe thead th {\n",
       "        text-align: right;\n",
       "    }\n",
       "</style>\n",
       "<table border=\"1\" class=\"dataframe\">\n",
       "  <thead>\n",
       "    <tr style=\"text-align: right;\">\n",
       "      <th></th>\n",
       "      <th>ID</th>\n",
       "      <th>PERIODO</th>\n",
       "      <th>ESTU_PRGM_ACADEMICO</th>\n",
       "      <th>ESTU_PRGM_DEPARTAMENTO</th>\n",
       "      <th>ESTU_VALORMATRICULAUNIVERSIDAD</th>\n",
       "      <th>ESTU_HORASSEMANATRABAJA</th>\n",
       "      <th>FAMI_ESTRATOVIVIENDA</th>\n",
       "      <th>FAMI_TIENEINTERNET</th>\n",
       "      <th>FAMI_EDUCACIONPADRE</th>\n",
       "      <th>FAMI_EDUCACIONMADRE</th>\n",
       "      <th>ESTU_PAGOMATRICULAPROPIO</th>\n",
       "      <th>RENDIMIENTO_GLOBAL</th>\n",
       "    </tr>\n",
       "  </thead>\n",
       "  <tbody>\n",
       "    <tr>\n",
       "      <th>0</th>\n",
       "      <td>904256</td>\n",
       "      <td>20212</td>\n",
       "      <td>ENFERMERIA</td>\n",
       "      <td>BOGOTÁ</td>\n",
       "      <td>Entre 5.5 millones y menos de 7 millones</td>\n",
       "      <td>Menos de 10 horas</td>\n",
       "      <td>Estrato 3</td>\n",
       "      <td>Si</td>\n",
       "      <td>Técnica o tecnológica incompleta</td>\n",
       "      <td>Postgrado</td>\n",
       "      <td>No</td>\n",
       "      <td>medio-alto</td>\n",
       "    </tr>\n",
       "    <tr>\n",
       "      <th>1</th>\n",
       "      <td>645256</td>\n",
       "      <td>20212</td>\n",
       "      <td>DERECHO</td>\n",
       "      <td>ATLANTICO</td>\n",
       "      <td>Entre 2.5 millones y menos de 4 millones</td>\n",
       "      <td>0</td>\n",
       "      <td>Estrato 3</td>\n",
       "      <td>No</td>\n",
       "      <td>Técnica o tecnológica completa</td>\n",
       "      <td>Técnica o tecnológica incompleta</td>\n",
       "      <td>No</td>\n",
       "      <td>bajo</td>\n",
       "    </tr>\n",
       "    <tr>\n",
       "      <th>2</th>\n",
       "      <td>308367</td>\n",
       "      <td>20203</td>\n",
       "      <td>MERCADEO Y PUBLICIDAD</td>\n",
       "      <td>BOGOTÁ</td>\n",
       "      <td>Entre 2.5 millones y menos de 4 millones</td>\n",
       "      <td>Más de 30 horas</td>\n",
       "      <td>Estrato 3</td>\n",
       "      <td>Si</td>\n",
       "      <td>Secundaria (Bachillerato) completa</td>\n",
       "      <td>Secundaria (Bachillerato) completa</td>\n",
       "      <td>No</td>\n",
       "      <td>bajo</td>\n",
       "    </tr>\n",
       "    <tr>\n",
       "      <th>3</th>\n",
       "      <td>470353</td>\n",
       "      <td>20195</td>\n",
       "      <td>ADMINISTRACION DE EMPRESAS</td>\n",
       "      <td>SANTANDER</td>\n",
       "      <td>Entre 4 millones y menos de 5.5 millones</td>\n",
       "      <td>0</td>\n",
       "      <td>Estrato 4</td>\n",
       "      <td>Si</td>\n",
       "      <td>No sabe</td>\n",
       "      <td>Secundaria (Bachillerato) completa</td>\n",
       "      <td>No</td>\n",
       "      <td>alto</td>\n",
       "    </tr>\n",
       "    <tr>\n",
       "      <th>4</th>\n",
       "      <td>989032</td>\n",
       "      <td>20212</td>\n",
       "      <td>PSICOLOGIA</td>\n",
       "      <td>ANTIOQUIA</td>\n",
       "      <td>Entre 2.5 millones y menos de 4 millones</td>\n",
       "      <td>Entre 21 y 30 horas</td>\n",
       "      <td>Estrato 3</td>\n",
       "      <td>Si</td>\n",
       "      <td>Primaria completa</td>\n",
       "      <td>Primaria completa</td>\n",
       "      <td>No</td>\n",
       "      <td>medio-bajo</td>\n",
       "    </tr>\n",
       "  </tbody>\n",
       "</table>\n",
       "</div>"
      ],
      "text/plain": [
       "       ID  PERIODO         ESTU_PRGM_ACADEMICO ESTU_PRGM_DEPARTAMENTO  \\\n",
       "0  904256    20212                  ENFERMERIA                 BOGOTÁ   \n",
       "1  645256    20212                     DERECHO              ATLANTICO   \n",
       "2  308367    20203       MERCADEO Y PUBLICIDAD                 BOGOTÁ   \n",
       "3  470353    20195  ADMINISTRACION DE EMPRESAS              SANTANDER   \n",
       "4  989032    20212                  PSICOLOGIA              ANTIOQUIA   \n",
       "\n",
       "             ESTU_VALORMATRICULAUNIVERSIDAD ESTU_HORASSEMANATRABAJA  \\\n",
       "0  Entre 5.5 millones y menos de 7 millones       Menos de 10 horas   \n",
       "1  Entre 2.5 millones y menos de 4 millones                       0   \n",
       "2  Entre 2.5 millones y menos de 4 millones         Más de 30 horas   \n",
       "3  Entre 4 millones y menos de 5.5 millones                       0   \n",
       "4  Entre 2.5 millones y menos de 4 millones     Entre 21 y 30 horas   \n",
       "\n",
       "  FAMI_ESTRATOVIVIENDA FAMI_TIENEINTERNET                 FAMI_EDUCACIONPADRE  \\\n",
       "0            Estrato 3                 Si    Técnica o tecnológica incompleta   \n",
       "1            Estrato 3                 No      Técnica o tecnológica completa   \n",
       "2            Estrato 3                 Si  Secundaria (Bachillerato) completa   \n",
       "3            Estrato 4                 Si                             No sabe   \n",
       "4            Estrato 3                 Si                   Primaria completa   \n",
       "\n",
       "                  FAMI_EDUCACIONMADRE ESTU_PAGOMATRICULAPROPIO  \\\n",
       "0                           Postgrado                       No   \n",
       "1    Técnica o tecnológica incompleta                       No   \n",
       "2  Secundaria (Bachillerato) completa                       No   \n",
       "3  Secundaria (Bachillerato) completa                       No   \n",
       "4                   Primaria completa                       No   \n",
       "\n",
       "  RENDIMIENTO_GLOBAL  \n",
       "0         medio-alto  \n",
       "1               bajo  \n",
       "2               bajo  \n",
       "3               alto  \n",
       "4         medio-bajo  "
      ]
     },
     "execution_count": 107,
     "metadata": {},
     "output_type": "execute_result"
    }
   ],
   "source": [
    "#Carga de los datos de entrenamiento\n",
    "#with zipfile.ZipFile(\"udea-ai4eng-20242.zip\", 'r') as zip_ref:\n",
    "    #zip_ref.extractall(\"data\") \n",
    "\n",
    "df = pd.read_csv(\"data/train.csv\")\n",
    "df.head() \n"
   ]
  },
  {
   "cell_type": "markdown",
   "metadata": {},
   "source": [
    "Ahora, lo primero que vamos a hacer es eliminar la columna correspondiente a el programa academico que estudió cada estudiante, esto es debido a que esa columna tiene todos los programas academicos, y tiene muchos valores únicos(948) diferentes que podrian generar confusión al modelo o ruido, lo que se buscaria hacer seria mejor filtrarlo por facultades, o departamentos para reducir este número de clases por así decirlo y poder entrenar mejor el modelo. Este procedimiento podria hacerse atraves de una LLM de clasificacion, o por ejemplo pasar esos valores a una tabla y clasificarlos. De forma parecida se eliminará también la columna id."
   ]
  },
  {
   "cell_type": "code",
   "execution_count": 157,
   "metadata": {},
   "outputs": [
    {
     "data": {
      "text/plain": [
       "ID                                692500\n",
       "PERIODO                                9\n",
       "ESTU_PRGM_ACADEMICO                  948\n",
       "ESTU_PRGM_DEPARTAMENTO                31\n",
       "ESTU_VALORMATRICULAUNIVERSIDAD         8\n",
       "ESTU_HORASSEMANATRABAJA                5\n",
       "FAMI_ESTRATOVIVIENDA                   7\n",
       "FAMI_TIENEINTERNET                     2\n",
       "FAMI_EDUCACIONPADRE                   12\n",
       "FAMI_EDUCACIONMADRE                   12\n",
       "ESTU_PAGOMATRICULAPROPIO               2\n",
       "dtype: int64"
      ]
     },
     "execution_count": 157,
     "metadata": {},
     "output_type": "execute_result"
    }
   ],
   "source": [
    "columnas = [\n",
    "    \"ID\", \n",
    "    \"PERIODO\", \n",
    "    \"ESTU_PRGM_ACADEMICO\", \n",
    "    \"ESTU_PRGM_DEPARTAMENTO\", \n",
    "    \"ESTU_VALORMATRICULAUNIVERSIDAD\", \n",
    "    \"ESTU_HORASSEMANATRABAJA\", \n",
    "    \"FAMI_ESTRATOVIVIENDA\", \n",
    "    \"FAMI_TIENEINTERNET\", \n",
    "    \"FAMI_EDUCACIONPADRE\", \n",
    "    \"FAMI_EDUCACIONMADRE\",\n",
    "    \"ESTU_PAGOMATRICULAPROPIO\"\n",
    "]\n",
    "\n",
    "# Número de clases para estas columnas\n",
    "df[columnas].nunique()"
   ]
  },
  {
   "cell_type": "code",
   "execution_count": 158,
   "metadata": {},
   "outputs": [],
   "source": [
    "df2 = df.copy()"
   ]
  },
  {
   "cell_type": "code",
   "execution_count": 159,
   "metadata": {},
   "outputs": [
    {
     "name": "stdout",
     "output_type": "stream",
     "text": [
      "Index(['ID', 'PERIODO', 'ESTU_PRGM_ACADEMICO', 'ESTU_PRGM_DEPARTAMENTO',\n",
      "       'ESTU_VALORMATRICULAUNIVERSIDAD', 'ESTU_HORASSEMANATRABAJA',\n",
      "       'FAMI_ESTRATOVIVIENDA', 'FAMI_TIENEINTERNET', 'FAMI_EDUCACIONPADRE',\n",
      "       'FAMI_EDUCACIONMADRE', 'ESTU_PAGOMATRICULAPROPIO',\n",
      "       'RENDIMIENTO_GLOBAL'],\n",
      "      dtype='object')\n",
      "Index(['ID', 'PERIODO', 'ESTU_PRGM_ACADEMICO', 'ESTU_PRGM_DEPARTAMENTO',\n",
      "       'ESTU_VALORMATRICULAUNIVERSIDAD', 'ESTU_HORASSEMANATRABAJA',\n",
      "       'FAMI_ESTRATOVIVIENDA', 'FAMI_TIENEINTERNET', 'FAMI_EDUCACIONPADRE',\n",
      "       'FAMI_EDUCACIONMADRE', 'ESTU_PAGOMATRICULAPROPIO',\n",
      "       'RENDIMIENTO_GLOBAL'],\n",
      "      dtype='object')\n"
     ]
    }
   ],
   "source": [
    "print(df2.columns)\n",
    "print(df.columns)"
   ]
  },
  {
   "cell_type": "markdown",
   "metadata": {},
   "source": [
    "Luego, se realizará la parte del encoding, esto debido a que se tienen muchas columnas con valores categoricos, que puedan ser entendido y procesado de mejor forma por los algoritmos de machine learning. Los algoritmos trabajan mejor con datos numéricos."
   ]
  },
  {
   "cell_type": "code",
   "execution_count": 160,
   "metadata": {},
   "outputs": [
    {
     "data": {
      "text/html": [
       "<div>\n",
       "<style scoped>\n",
       "    .dataframe tbody tr th:only-of-type {\n",
       "        vertical-align: middle;\n",
       "    }\n",
       "\n",
       "    .dataframe tbody tr th {\n",
       "        vertical-align: top;\n",
       "    }\n",
       "\n",
       "    .dataframe thead th {\n",
       "        text-align: right;\n",
       "    }\n",
       "</style>\n",
       "<table border=\"1\" class=\"dataframe\">\n",
       "  <thead>\n",
       "    <tr style=\"text-align: right;\">\n",
       "      <th></th>\n",
       "      <th>PERIODO</th>\n",
       "      <th>ESTU_PRGM_DEPARTAMENTO</th>\n",
       "      <th>ESTU_VALORMATRICULAUNIVERSIDAD</th>\n",
       "      <th>ESTU_HORASSEMANATRABAJA</th>\n",
       "      <th>FAMI_ESTRATOVIVIENDA</th>\n",
       "      <th>FAMI_TIENEINTERNET</th>\n",
       "      <th>FAMI_EDUCACIONPADRE</th>\n",
       "      <th>FAMI_EDUCACIONMADRE</th>\n",
       "      <th>ESTU_PAGOMATRICULAPROPIO</th>\n",
       "      <th>RENDIMIENTO_GLOBAL</th>\n",
       "    </tr>\n",
       "  </thead>\n",
       "  <tbody>\n",
       "    <tr>\n",
       "      <th>0</th>\n",
       "      <td>20212</td>\n",
       "      <td>4</td>\n",
       "      <td>3</td>\n",
       "      <td>3</td>\n",
       "      <td>2</td>\n",
       "      <td>1</td>\n",
       "      <td>11</td>\n",
       "      <td>5</td>\n",
       "      <td>0</td>\n",
       "      <td>2</td>\n",
       "    </tr>\n",
       "    <tr>\n",
       "      <th>1</th>\n",
       "      <td>20212</td>\n",
       "      <td>3</td>\n",
       "      <td>1</td>\n",
       "      <td>0</td>\n",
       "      <td>2</td>\n",
       "      <td>0</td>\n",
       "      <td>10</td>\n",
       "      <td>11</td>\n",
       "      <td>0</td>\n",
       "      <td>1</td>\n",
       "    </tr>\n",
       "    <tr>\n",
       "      <th>2</th>\n",
       "      <td>20203</td>\n",
       "      <td>4</td>\n",
       "      <td>1</td>\n",
       "      <td>4</td>\n",
       "      <td>2</td>\n",
       "      <td>1</td>\n",
       "      <td>8</td>\n",
       "      <td>8</td>\n",
       "      <td>0</td>\n",
       "      <td>1</td>\n",
       "    </tr>\n",
       "    <tr>\n",
       "      <th>3</th>\n",
       "      <td>20195</td>\n",
       "      <td>26</td>\n",
       "      <td>2</td>\n",
       "      <td>0</td>\n",
       "      <td>3</td>\n",
       "      <td>1</td>\n",
       "      <td>4</td>\n",
       "      <td>8</td>\n",
       "      <td>0</td>\n",
       "      <td>0</td>\n",
       "    </tr>\n",
       "    <tr>\n",
       "      <th>4</th>\n",
       "      <td>20212</td>\n",
       "      <td>1</td>\n",
       "      <td>1</td>\n",
       "      <td>2</td>\n",
       "      <td>2</td>\n",
       "      <td>1</td>\n",
       "      <td>6</td>\n",
       "      <td>6</td>\n",
       "      <td>0</td>\n",
       "      <td>3</td>\n",
       "    </tr>\n",
       "  </tbody>\n",
       "</table>\n",
       "</div>"
      ],
      "text/plain": [
       "   PERIODO  ESTU_PRGM_DEPARTAMENTO  ESTU_VALORMATRICULAUNIVERSIDAD  \\\n",
       "0    20212                       4                               3   \n",
       "1    20212                       3                               1   \n",
       "2    20203                       4                               1   \n",
       "3    20195                      26                               2   \n",
       "4    20212                       1                               1   \n",
       "\n",
       "   ESTU_HORASSEMANATRABAJA  FAMI_ESTRATOVIVIENDA  FAMI_TIENEINTERNET  \\\n",
       "0                        3                     2                   1   \n",
       "1                        0                     2                   0   \n",
       "2                        4                     2                   1   \n",
       "3                        0                     3                   1   \n",
       "4                        2                     2                   1   \n",
       "\n",
       "   FAMI_EDUCACIONPADRE  FAMI_EDUCACIONMADRE  ESTU_PAGOMATRICULAPROPIO  \\\n",
       "0                   11                    5                         0   \n",
       "1                   10                   11                         0   \n",
       "2                    8                    8                         0   \n",
       "3                    4                    8                         0   \n",
       "4                    6                    6                         0   \n",
       "\n",
       "   RENDIMIENTO_GLOBAL  \n",
       "0                   2  \n",
       "1                   1  \n",
       "2                   1  \n",
       "3                   0  \n",
       "4                   3  "
      ]
     },
     "execution_count": 160,
     "metadata": {},
     "output_type": "execute_result"
    }
   ],
   "source": [
    "\n",
    "from sklearn.preprocessing import LabelEncoder\n",
    "df2.drop([\"ID\", \"ESTU_PRGM_ACADEMICO\"], axis=1, inplace=True, errors='ignore')\n",
    "le = LabelEncoder()\n",
    "for column in df2.columns:\n",
    "    if df2[column].dtype == 'object':\n",
    "        df2[column] = le.fit_transform(df2[column])\n",
    "\n",
    "df2.head()"
   ]
  },
  {
   "cell_type": "markdown",
   "metadata": {},
   "source": [
    "Luego de haber hecho el encoding, y habiendo revisado anteriormente los valores nulos y faltantes que hay, se realiza una agrupacion de los datos de las columnas con respecto al target para posteriormente reemplazarlos, por ejemplo podria con la media o el promedio, esto se puede decidir revisando la distribución de dichos datos con respecto al target. "
   ]
  },
  {
   "cell_type": "code",
   "execution_count": 112,
   "metadata": {},
   "outputs": [
    {
     "data": {
      "text/html": [
       "<div>\n",
       "<style scoped>\n",
       "    .dataframe tbody tr th:only-of-type {\n",
       "        vertical-align: middle;\n",
       "    }\n",
       "\n",
       "    .dataframe tbody tr th {\n",
       "        vertical-align: top;\n",
       "    }\n",
       "\n",
       "    .dataframe thead th {\n",
       "        text-align: right;\n",
       "    }\n",
       "</style>\n",
       "<table border=\"1\" class=\"dataframe\">\n",
       "  <thead>\n",
       "    <tr style=\"text-align: right;\">\n",
       "      <th></th>\n",
       "      <th>PERIODO</th>\n",
       "      <th>ESTU_PRGM_DEPARTAMENTO</th>\n",
       "      <th>ESTU_VALORMATRICULAUNIVERSIDAD</th>\n",
       "      <th>ESTU_HORASSEMANATRABAJA</th>\n",
       "      <th>FAMI_ESTRATOVIVIENDA</th>\n",
       "      <th>FAMI_TIENEINTERNET</th>\n",
       "      <th>FAMI_EDUCACIONPADRE</th>\n",
       "      <th>FAMI_EDUCACIONMADRE</th>\n",
       "      <th>ESTU_PAGOMATRICULAPROPIO</th>\n",
       "    </tr>\n",
       "    <tr>\n",
       "      <th>RENDIMIENTO_GLOBAL</th>\n",
       "      <th></th>\n",
       "      <th></th>\n",
       "      <th></th>\n",
       "      <th></th>\n",
       "      <th></th>\n",
       "      <th></th>\n",
       "      <th></th>\n",
       "      <th></th>\n",
       "      <th></th>\n",
       "    </tr>\n",
       "  </thead>\n",
       "  <tbody>\n",
       "    <tr>\n",
       "      <th>0</th>\n",
       "      <td>20198.050319</td>\n",
       "      <td>8.982274</td>\n",
       "      <td>3.477340</td>\n",
       "      <td>2.155951</td>\n",
       "      <td>2.219999</td>\n",
       "      <td>0.985770</td>\n",
       "      <td>5.743063</td>\n",
       "      <td>6.033094</td>\n",
       "      <td>0.312489</td>\n",
       "    </tr>\n",
       "    <tr>\n",
       "      <th>1</th>\n",
       "      <td>20199.441548</td>\n",
       "      <td>10.060305</td>\n",
       "      <td>1.853775</td>\n",
       "      <td>2.630284</td>\n",
       "      <td>1.581310</td>\n",
       "      <td>0.881297</td>\n",
       "      <td>6.688242</td>\n",
       "      <td>7.054507</td>\n",
       "      <td>0.566170</td>\n",
       "    </tr>\n",
       "    <tr>\n",
       "      <th>2</th>\n",
       "      <td>20198.083621</td>\n",
       "      <td>9.702591</td>\n",
       "      <td>2.451034</td>\n",
       "      <td>2.514145</td>\n",
       "      <td>1.801968</td>\n",
       "      <td>0.949638</td>\n",
       "      <td>6.495720</td>\n",
       "      <td>6.891469</td>\n",
       "      <td>0.440819</td>\n",
       "    </tr>\n",
       "    <tr>\n",
       "      <th>3</th>\n",
       "      <td>20197.891847</td>\n",
       "      <td>9.875443</td>\n",
       "      <td>1.982696</td>\n",
       "      <td>2.608637</td>\n",
       "      <td>1.625662</td>\n",
       "      <td>0.912628</td>\n",
       "      <td>6.666493</td>\n",
       "      <td>7.058006</td>\n",
       "      <td>0.512698</td>\n",
       "    </tr>\n",
       "  </tbody>\n",
       "</table>\n",
       "</div>"
      ],
      "text/plain": [
       "                         PERIODO  ESTU_PRGM_DEPARTAMENTO  \\\n",
       "RENDIMIENTO_GLOBAL                                         \n",
       "0                   20198.050319                8.982274   \n",
       "1                   20199.441548               10.060305   \n",
       "2                   20198.083621                9.702591   \n",
       "3                   20197.891847                9.875443   \n",
       "\n",
       "                    ESTU_VALORMATRICULAUNIVERSIDAD  ESTU_HORASSEMANATRABAJA  \\\n",
       "RENDIMIENTO_GLOBAL                                                            \n",
       "0                                         3.477340                 2.155951   \n",
       "1                                         1.853775                 2.630284   \n",
       "2                                         2.451034                 2.514145   \n",
       "3                                         1.982696                 2.608637   \n",
       "\n",
       "                    FAMI_ESTRATOVIVIENDA  FAMI_TIENEINTERNET  \\\n",
       "RENDIMIENTO_GLOBAL                                             \n",
       "0                               2.219999            0.985770   \n",
       "1                               1.581310            0.881297   \n",
       "2                               1.801968            0.949638   \n",
       "3                               1.625662            0.912628   \n",
       "\n",
       "                    FAMI_EDUCACIONPADRE  FAMI_EDUCACIONMADRE  \\\n",
       "RENDIMIENTO_GLOBAL                                             \n",
       "0                              5.743063             6.033094   \n",
       "1                              6.688242             7.054507   \n",
       "2                              6.495720             6.891469   \n",
       "3                              6.666493             7.058006   \n",
       "\n",
       "                    ESTU_PAGOMATRICULAPROPIO  \n",
       "RENDIMIENTO_GLOBAL                            \n",
       "0                                   0.312489  \n",
       "1                                   0.566170  \n",
       "2                                   0.440819  \n",
       "3                                   0.512698  "
      ]
     },
     "execution_count": 112,
     "metadata": {},
     "output_type": "execute_result"
    }
   ],
   "source": [
    "df2.groupby(\"RENDIMIENTO_GLOBAL\").mean()"
   ]
  },
  {
   "cell_type": "code",
   "execution_count": 89,
   "metadata": {},
   "outputs": [
    {
     "data": {
      "text/html": [
       "<div>\n",
       "<style scoped>\n",
       "    .dataframe tbody tr th:only-of-type {\n",
       "        vertical-align: middle;\n",
       "    }\n",
       "\n",
       "    .dataframe tbody tr th {\n",
       "        vertical-align: top;\n",
       "    }\n",
       "\n",
       "    .dataframe thead th {\n",
       "        text-align: right;\n",
       "    }\n",
       "</style>\n",
       "<table border=\"1\" class=\"dataframe\">\n",
       "  <thead>\n",
       "    <tr style=\"text-align: right;\">\n",
       "      <th></th>\n",
       "      <th>RENDIMIENTO_GLOBAL</th>\n",
       "      <th>PERIODO</th>\n",
       "      <th>ESTU_PRGM_DEPARTAMENTO</th>\n",
       "      <th>ESTU_VALORMATRICULAUNIVERSIDAD</th>\n",
       "      <th>ESTU_HORASSEMANATRABAJA</th>\n",
       "      <th>FAMI_ESTRATOVIVIENDA</th>\n",
       "      <th>FAMI_TIENEINTERNET</th>\n",
       "      <th>FAMI_EDUCACIONPADRE</th>\n",
       "      <th>FAMI_EDUCACIONMADRE</th>\n",
       "      <th>ESTU_PAGOMATRICULAPROPIO</th>\n",
       "    </tr>\n",
       "  </thead>\n",
       "  <tbody>\n",
       "    <tr>\n",
       "      <th>0</th>\n",
       "      <td>0</td>\n",
       "      <td>20203</td>\n",
       "      <td>4</td>\n",
       "      <td>6</td>\n",
       "      <td>4</td>\n",
       "      <td>2</td>\n",
       "      <td>1</td>\n",
       "      <td>0</td>\n",
       "      <td>0</td>\n",
       "      <td>0</td>\n",
       "    </tr>\n",
       "    <tr>\n",
       "      <th>1</th>\n",
       "      <td>1</td>\n",
       "      <td>20212</td>\n",
       "      <td>4</td>\n",
       "      <td>0</td>\n",
       "      <td>4</td>\n",
       "      <td>1</td>\n",
       "      <td>1</td>\n",
       "      <td>7</td>\n",
       "      <td>7</td>\n",
       "      <td>1</td>\n",
       "    </tr>\n",
       "    <tr>\n",
       "      <th>2</th>\n",
       "      <td>2</td>\n",
       "      <td>20195</td>\n",
       "      <td>4</td>\n",
       "      <td>0</td>\n",
       "      <td>4</td>\n",
       "      <td>1</td>\n",
       "      <td>1</td>\n",
       "      <td>8</td>\n",
       "      <td>8</td>\n",
       "      <td>0</td>\n",
       "    </tr>\n",
       "    <tr>\n",
       "      <th>3</th>\n",
       "      <td>3</td>\n",
       "      <td>20195</td>\n",
       "      <td>4</td>\n",
       "      <td>0</td>\n",
       "      <td>4</td>\n",
       "      <td>1</td>\n",
       "      <td>1</td>\n",
       "      <td>7</td>\n",
       "      <td>8</td>\n",
       "      <td>1</td>\n",
       "    </tr>\n",
       "  </tbody>\n",
       "</table>\n",
       "</div>"
      ],
      "text/plain": [
       "   RENDIMIENTO_GLOBAL  PERIODO  ESTU_PRGM_DEPARTAMENTO  \\\n",
       "0                   0    20203                       4   \n",
       "1                   1    20212                       4   \n",
       "2                   2    20195                       4   \n",
       "3                   3    20195                       4   \n",
       "\n",
       "   ESTU_VALORMATRICULAUNIVERSIDAD  ESTU_HORASSEMANATRABAJA  \\\n",
       "0                               6                        4   \n",
       "1                               0                        4   \n",
       "2                               0                        4   \n",
       "3                               0                        4   \n",
       "\n",
       "   FAMI_ESTRATOVIVIENDA  FAMI_TIENEINTERNET  FAMI_EDUCACIONPADRE  \\\n",
       "0                     2                   1                    0   \n",
       "1                     1                   1                    7   \n",
       "2                     1                   1                    8   \n",
       "3                     1                   1                    7   \n",
       "\n",
       "   FAMI_EDUCACIONMADRE  ESTU_PAGOMATRICULAPROPIO  \n",
       "0                    0                         0  \n",
       "1                    7                         1  \n",
       "2                    8                         0  \n",
       "3                    8                         1  "
      ]
     },
     "execution_count": 89,
     "metadata": {},
     "output_type": "execute_result"
    }
   ],
   "source": [
    "\n",
    "dfmoda = df2.groupby(\"RENDIMIENTO_GLOBAL\").agg(lambda x: x.mode()[0])\n",
    "dfmoda = dfmoda.reset_index()\n",
    "dfmoda\n"
   ]
  },
  {
   "cell_type": "markdown",
   "metadata": {},
   "source": [
    "En éste caso, se escoge la moda ya que para datos categoricos se considera más representativo ver cual se repite."
   ]
  },
  {
   "cell_type": "code",
   "execution_count": 127,
   "metadata": {},
   "outputs": [],
   "source": [
    "df2 = df2.apply(lambda x: x.fillna(x.value_counts().index[0]))"
   ]
  },
  {
   "cell_type": "markdown",
   "metadata": {},
   "source": [
    "Ahora, se realiza un conteo para observar número de valores nulos en cada columna del DataFrame."
   ]
  },
  {
   "cell_type": "code",
   "execution_count": 128,
   "metadata": {},
   "outputs": [
    {
     "data": {
      "text/plain": [
       "PERIODO                           0\n",
       "ESTU_PRGM_DEPARTAMENTO            0\n",
       "ESTU_VALORMATRICULAUNIVERSIDAD    0\n",
       "ESTU_HORASSEMANATRABAJA           0\n",
       "FAMI_ESTRATOVIVIENDA              0\n",
       "FAMI_TIENEINTERNET                0\n",
       "FAMI_EDUCACIONPADRE               0\n",
       "FAMI_EDUCACIONMADRE               0\n",
       "ESTU_PAGOMATRICULAPROPIO          0\n",
       "RENDIMIENTO_GLOBAL                0\n",
       "dtype: int64"
      ]
     },
     "execution_count": 128,
     "metadata": {},
     "output_type": "execute_result"
    }
   ],
   "source": [
    "df2.isna().sum()"
   ]
  },
  {
   "cell_type": "code",
   "execution_count": null,
   "metadata": {},
   "outputs": [
    {
     "data": {
      "text/html": [
       "<div>\n",
       "<style scoped>\n",
       "    .dataframe tbody tr th:only-of-type {\n",
       "        vertical-align: middle;\n",
       "    }\n",
       "\n",
       "    .dataframe tbody tr th {\n",
       "        vertical-align: top;\n",
       "    }\n",
       "\n",
       "    .dataframe thead th {\n",
       "        text-align: right;\n",
       "    }\n",
       "</style>\n",
       "<table border=\"1\" class=\"dataframe\">\n",
       "  <thead>\n",
       "    <tr style=\"text-align: right;\">\n",
       "      <th></th>\n",
       "      <th>PERIODO</th>\n",
       "      <th>ESTU_PRGM_DEPARTAMENTO</th>\n",
       "      <th>ESTU_VALORMATRICULAUNIVERSIDAD</th>\n",
       "      <th>ESTU_HORASSEMANATRABAJA</th>\n",
       "      <th>FAMI_ESTRATOVIVIENDA</th>\n",
       "      <th>FAMI_TIENEINTERNET</th>\n",
       "      <th>FAMI_EDUCACIONPADRE</th>\n",
       "      <th>FAMI_EDUCACIONMADRE</th>\n",
       "      <th>ESTU_PAGOMATRICULAPROPIO</th>\n",
       "      <th>RENDIMIENTO_GLOBAL</th>\n",
       "    </tr>\n",
       "  </thead>\n",
       "  <tbody>\n",
       "    <tr>\n",
       "      <th>0</th>\n",
       "      <td>1.294094</td>\n",
       "      <td>-0.607837</td>\n",
       "      <td>0.240348</td>\n",
       "      <td>0.326252</td>\n",
       "      <td>0.118972</td>\n",
       "      <td>0.180450</td>\n",
       "      <td>1.372294</td>\n",
       "      <td>-0.519441</td>\n",
       "      <td>-0.885401</td>\n",
       "      <td>2</td>\n",
       "    </tr>\n",
       "    <tr>\n",
       "      <th>1</th>\n",
       "      <td>1.294094</td>\n",
       "      <td>-0.715376</td>\n",
       "      <td>-0.626710</td>\n",
       "      <td>-1.540980</td>\n",
       "      <td>0.118972</td>\n",
       "      <td>-2.493778</td>\n",
       "      <td>1.074266</td>\n",
       "      <td>1.255474</td>\n",
       "      <td>-0.885401</td>\n",
       "      <td>1</td>\n",
       "    </tr>\n",
       "    <tr>\n",
       "      <th>2</th>\n",
       "      <td>0.439801</td>\n",
       "      <td>-0.607837</td>\n",
       "      <td>-0.626710</td>\n",
       "      <td>0.948663</td>\n",
       "      <td>0.118972</td>\n",
       "      <td>0.180450</td>\n",
       "      <td>0.478210</td>\n",
       "      <td>0.368017</td>\n",
       "      <td>-0.885401</td>\n",
       "      <td>1</td>\n",
       "    </tr>\n",
       "    <tr>\n",
       "      <th>3</th>\n",
       "      <td>-0.319570</td>\n",
       "      <td>1.758009</td>\n",
       "      <td>-0.193181</td>\n",
       "      <td>-1.540980</td>\n",
       "      <td>0.741865</td>\n",
       "      <td>0.180450</td>\n",
       "      <td>-0.713903</td>\n",
       "      <td>0.368017</td>\n",
       "      <td>-0.885401</td>\n",
       "      <td>0</td>\n",
       "    </tr>\n",
       "    <tr>\n",
       "      <th>4</th>\n",
       "      <td>1.294094</td>\n",
       "      <td>-0.930452</td>\n",
       "      <td>-0.626710</td>\n",
       "      <td>-0.296159</td>\n",
       "      <td>0.118972</td>\n",
       "      <td>0.180450</td>\n",
       "      <td>-0.117847</td>\n",
       "      <td>-0.223622</td>\n",
       "      <td>-0.885401</td>\n",
       "      <td>3</td>\n",
       "    </tr>\n",
       "    <tr>\n",
       "      <th>...</th>\n",
       "      <td>...</td>\n",
       "      <td>...</td>\n",
       "      <td>...</td>\n",
       "      <td>...</td>\n",
       "      <td>...</td>\n",
       "      <td>...</td>\n",
       "      <td>...</td>\n",
       "      <td>...</td>\n",
       "      <td>...</td>\n",
       "      <td>...</td>\n",
       "    </tr>\n",
       "    <tr>\n",
       "      <th>692495</th>\n",
       "      <td>-0.319570</td>\n",
       "      <td>0.790163</td>\n",
       "      <td>0.673876</td>\n",
       "      <td>-0.918570</td>\n",
       "      <td>-0.503921</td>\n",
       "      <td>0.180450</td>\n",
       "      <td>0.478210</td>\n",
       "      <td>0.663836</td>\n",
       "      <td>1.050034</td>\n",
       "      <td>2</td>\n",
       "    </tr>\n",
       "    <tr>\n",
       "      <th>692496</th>\n",
       "      <td>1.294094</td>\n",
       "      <td>1.220317</td>\n",
       "      <td>-0.626710</td>\n",
       "      <td>0.948663</td>\n",
       "      <td>0.118972</td>\n",
       "      <td>0.180450</td>\n",
       "      <td>0.180182</td>\n",
       "      <td>0.663836</td>\n",
       "      <td>-0.885401</td>\n",
       "      <td>1</td>\n",
       "    </tr>\n",
       "    <tr>\n",
       "      <th>692497</th>\n",
       "      <td>-1.458627</td>\n",
       "      <td>-0.607837</td>\n",
       "      <td>-1.060238</td>\n",
       "      <td>0.326252</td>\n",
       "      <td>0.118972</td>\n",
       "      <td>0.180450</td>\n",
       "      <td>0.478210</td>\n",
       "      <td>0.663836</td>\n",
       "      <td>1.050034</td>\n",
       "      <td>3</td>\n",
       "    </tr>\n",
       "    <tr>\n",
       "      <th>692498</th>\n",
       "      <td>-0.319570</td>\n",
       "      <td>1.973086</td>\n",
       "      <td>-0.626710</td>\n",
       "      <td>0.326252</td>\n",
       "      <td>-1.126814</td>\n",
       "      <td>-2.493778</td>\n",
       "      <td>-0.117847</td>\n",
       "      <td>-0.223622</td>\n",
       "      <td>1.050034</td>\n",
       "      <td>1</td>\n",
       "    </tr>\n",
       "    <tr>\n",
       "      <th>692499</th>\n",
       "      <td>-0.319570</td>\n",
       "      <td>-0.930452</td>\n",
       "      <td>0.240348</td>\n",
       "      <td>0.948663</td>\n",
       "      <td>0.741865</td>\n",
       "      <td>0.180450</td>\n",
       "      <td>0.478210</td>\n",
       "      <td>0.959655</td>\n",
       "      <td>-0.885401</td>\n",
       "      <td>0</td>\n",
       "    </tr>\n",
       "  </tbody>\n",
       "</table>\n",
       "<p>692500 rows × 10 columns</p>\n",
       "</div>"
      ],
      "text/plain": [
       "         PERIODO  ESTU_PRGM_DEPARTAMENTO  ESTU_VALORMATRICULAUNIVERSIDAD  \\\n",
       "0       1.294094               -0.607837                        0.240348   \n",
       "1       1.294094               -0.715376                       -0.626710   \n",
       "2       0.439801               -0.607837                       -0.626710   \n",
       "3      -0.319570                1.758009                       -0.193181   \n",
       "4       1.294094               -0.930452                       -0.626710   \n",
       "...          ...                     ...                             ...   \n",
       "692495 -0.319570                0.790163                        0.673876   \n",
       "692496  1.294094                1.220317                       -0.626710   \n",
       "692497 -1.458627               -0.607837                       -1.060238   \n",
       "692498 -0.319570                1.973086                       -0.626710   \n",
       "692499 -0.319570               -0.930452                        0.240348   \n",
       "\n",
       "        ESTU_HORASSEMANATRABAJA  FAMI_ESTRATOVIVIENDA  FAMI_TIENEINTERNET  \\\n",
       "0                      0.326252              0.118972            0.180450   \n",
       "1                     -1.540980              0.118972           -2.493778   \n",
       "2                      0.948663              0.118972            0.180450   \n",
       "3                     -1.540980              0.741865            0.180450   \n",
       "4                     -0.296159              0.118972            0.180450   \n",
       "...                         ...                   ...                 ...   \n",
       "692495                -0.918570             -0.503921            0.180450   \n",
       "692496                 0.948663              0.118972            0.180450   \n",
       "692497                 0.326252              0.118972            0.180450   \n",
       "692498                 0.326252             -1.126814           -2.493778   \n",
       "692499                 0.948663              0.741865            0.180450   \n",
       "\n",
       "        FAMI_EDUCACIONPADRE  FAMI_EDUCACIONMADRE  ESTU_PAGOMATRICULAPROPIO  \\\n",
       "0                  1.372294            -0.519441                 -0.885401   \n",
       "1                  1.074266             1.255474                 -0.885401   \n",
       "2                  0.478210             0.368017                 -0.885401   \n",
       "3                 -0.713903             0.368017                 -0.885401   \n",
       "4                 -0.117847            -0.223622                 -0.885401   \n",
       "...                     ...                  ...                       ...   \n",
       "692495             0.478210             0.663836                  1.050034   \n",
       "692496             0.180182             0.663836                 -0.885401   \n",
       "692497             0.478210             0.663836                  1.050034   \n",
       "692498            -0.117847            -0.223622                  1.050034   \n",
       "692499             0.478210             0.959655                 -0.885401   \n",
       "\n",
       "        RENDIMIENTO_GLOBAL  \n",
       "0                        2  \n",
       "1                        1  \n",
       "2                        1  \n",
       "3                        0  \n",
       "4                        3  \n",
       "...                    ...  \n",
       "692495                   2  \n",
       "692496                   1  \n",
       "692497                   3  \n",
       "692498                   1  \n",
       "692499                   0  \n",
       "\n",
       "[692500 rows x 10 columns]"
      ]
     },
     "execution_count": 115,
     "metadata": {},
     "output_type": "execute_result"
    }
   ],
   "source": []
  },
  {
   "cell_type": "code",
   "execution_count": null,
   "metadata": {},
   "outputs": [],
   "source": []
  },
  {
   "cell_type": "markdown",
   "metadata": {},
   "source": [
    "No hay valores nulos para ninguna columna, esto quiere decir que se tiene en dataset listo para seguir realizandole operaciones. Ahora, se realizará una matriz de correlacion, eso debido a que se tienen datos numericos y los cálculos necesarios para esta son solo válidos para variables que tienen valores numéricos.\n",
    "La matriz de correlación permite identificar si existe una relación lineal entre las variables numéricas. Esto es útil para entender cómo los diferentes factores pueden influir en el evento objetivo. Siendo entonces la correlacion más alta 1 o -1, y la mas alejada, es decir, una correlación baja cuando el coeficiente de correlación está cerca de 0."
   ]
  },
  {
   "cell_type": "code",
   "execution_count": 129,
   "metadata": {},
   "outputs": [
    {
     "data": {
      "image/png": "[encoded data removed]",
      "text/plain": [
       "<Figure size 640x480 with 2 Axes>"
      ]
     },
     "metadata": {},
     "output_type": "display_data"
    }
   ],
   "source": [
    "corr_matrix = np.abs(df2.corr())\n",
    "top = corr_matrix['RENDIMIENTO_GLOBAL'].sort_values(ascending=False)[0:8].index\n",
    "corr_matrix = corr_matrix.loc[top, top]\n",
    "sns.heatmap(corr_matrix, annot=True, cmap='coolwarm', fmt='.2f')\n",
    "plt.title(\"Matriz de correlaciones\")\n",
    "plt.show()"
   ]
  },
  {
   "cell_type": "code",
   "execution_count": 130,
   "metadata": {},
   "outputs": [
    {
     "data": {
      "text/plain": [
       "RENDIMIENTO_GLOBAL                1.000000\n",
       "ESTU_VALORMATRICULAUNIVERSIDAD    0.189888\n",
       "FAMI_ESTRATOVIVIENDA              0.109657\n",
       "ESTU_PAGOMATRICULAPROPIO          0.103880\n",
       "FAMI_EDUCACIONMADRE               0.096974\n",
       "ESTU_HORASSEMANATRABAJA           0.087071\n",
       "FAMI_EDUCACIONPADRE               0.086516\n",
       "FAMI_TIENEINTERNET                0.045744\n",
       "ESTU_PRGM_DEPARTAMENTO            0.028170\n",
       "PERIODO                           0.019166\n",
       "Name: RENDIMIENTO_GLOBAL, dtype: float64"
      ]
     },
     "execution_count": 130,
     "metadata": {},
     "output_type": "execute_result"
    }
   ],
   "source": [
    "corr_matrix = np.abs(df2.corr())\n",
    "corr_as_dec = corr_matrix['RENDIMIENTO_GLOBAL'].sort_values(ascending=False)\n",
    "corr_as_dec"
   ]
  },
  {
   "cell_type": "markdown",
   "metadata": {},
   "source": [
    "Finalmente se observa que la variable que obtuvo menor correlacion con respecto al target fue el periodo, mientras que la variable que mejor correlacion arojó fue el valor de  la matricula de la universidad. Esto es coherente ya que podria ser que al tener acceso a una educación más cara, se tienen mejores condiciones financieras, mejores condiciones financieras que se traducen en mejores condiciones para estudiar de forma comoda o solo dedicarse a estudiar, por ejemplo."
   ]
  },
  {
   "cell_type": "markdown",
   "metadata": {},
   "source": [
    "Finalmente,se guardan los datos preprocesados para utilizarlos luegos en el entranmiento.\n"
   ]
  },
  {
   "cell_type": "code",
   "execution_count": 144,
   "metadata": {},
   "outputs": [],
   "source": [
    "import numpy as np\n",
    "import pandas as pd\n",
    "import matplotlib.pyplot as plt\n",
    "from sklearn.model_selection import learning_curve,train_test_split,cross_validate, ShuffleSplit,GridSearchCV\n",
    "from sklearn.linear_model import LinearRegression,RidgeClassifier\n",
    "from sklearn.tree import DecisionTreeClassifier\n",
    "from sklearn.ensemble import RandomForestClassifier\n",
    "from sklearn.metrics import mean_squared_error,average_precision_score,mean_absolute_error,r2_score,confusion_matrix,classification_report\n",
    "import seaborn as sns\n",
    "from sklearn.preprocessing import StandardScaler,MinMaxScaler\n",
    "from sklearn.svm import LinearSVC\n",
    "from sklearn.ensemble import GradientBoostingClassifier,AdaBoostClassifier\n",
    "import textwrap\n",
    "from sklearn.decomposition import NMF,PCA\n",
    "from itertools import product\n",
    "from sklearn.metrics import f1_score,accuracy_score,recall_score"
   ]
  },
  {
   "cell_type": "code",
   "execution_count": 133,
   "metadata": {},
   "outputs": [],
   "source": [
    "#Función para reportar el error del modelo\n",
    "def report_cv_score(z):\n",
    "    \n",
    "    #RMSE en prueba y entrenamiento\n",
    "    lr_ts_score = z['test_score']*(-1)\n",
    "    lr_tr_score = z['train_score']*(-1)\n",
    "    lin_rmse_ts = np.sqrt(lr_ts_score)\n",
    "    lin_rmse_tr = np.sqrt(lr_tr_score)\n",
    "    print(\"RMSLE Test: \", \"{:.5f}\".format(np.mean(lin_rmse_ts)), \"(±\", \"{:.8f}\".format(np.std(lin_rmse_ts)),\")\")\n",
    "    print(\"RMSLE Train: \", \"{:.5f}\".format(np.mean(lin_rmse_tr)), \"(±\", \"{:.8f}\".format(np.std(lin_rmse_tr)),\")\")"
   ]
  },
  {
   "cell_type": "code",
   "execution_count": 134,
   "metadata": {},
   "outputs": [],
   "source": [
    "#Función para calcular el RMSLE de los modelos implementados\n",
    "def RMSLE(y_actual, y_pred):\n",
    "    \n",
    "    return np.sqrt(mean_squared_error(y_actual, y_pred))"
   ]
  },
  {
   "cell_type": "code",
   "execution_count": 135,
   "metadata": {},
   "outputs": [],
   "source": [
    "train = df2\n",
    "\n",
    "X = train.drop(['RENDIMIENTO_GLOBAL'],axis = 1)\n",
    "y = train['RENDIMIENTO_GLOBAL'].values\n"
   ]
  },
  {
   "cell_type": "code",
   "execution_count": 136,
   "metadata": {},
   "outputs": [
    {
     "name": "stdout",
     "output_type": "stream",
     "text": [
      "(692500, 9) (692500,)\n",
      "test size 0.30\n",
      "val size is 0.43 (relative to 0.70) \n",
      "(484750, 9) (207750, 9)\n"
     ]
    }
   ],
   "source": [
    "#--------Partición de los datos------------\n",
    "\n",
    "test_size = 0.3\n",
    "val_size  = test_size/(1-test_size) # Elementos de validación\n",
    "\n",
    "print (X.shape, y.shape)\n",
    "print (\"test size %.2f\"%test_size)\n",
    "print (\"val size is %.2f (relative to %.2f) \"%(val_size, 1-test_size))\n",
    "\n",
    "#Xtv, ytv son los datos que se usan para entrenar el modelo\n",
    "#Xts, yts son los datos que se usan para probar el modelo (solo se usan para el testeo final de los modelos que se seleccionen)\n",
    "Xtv, Xts, ytv, yts = train_test_split(X, y, test_size=test_size)\n",
    "print (Xtv.shape, Xts.shape)"
   ]
  },
  {
   "cell_type": "markdown",
   "metadata": {},
   "source": [
    "Metodo supervisado"
   ]
  },
  {
   "cell_type": "code",
   "execution_count": null,
   "metadata": {},
   "outputs": [],
   "source": [
    "#Modelo1 = DecisionTreeClassifier(max_depth=5)\n",
    "Modelo1 = AdaBoostClassifier(n_estimators=50, learning_rate=1.0, random_state=42)\n",
    "Modelo2 = GradientBoostingClassifier(max_depth=5)"
   ]
  },
  {
   "cell_type": "code",
   "execution_count": 150,
   "metadata": {},
   "outputs": [],
   "source": [
    "def train_test_evaluate(model_name, model, X_train, y_train, X_test, y_test):\n",
    "    # Entrenar el modelo con los datos de entrenamiento\n",
    "    model.fit(X_train, y_train)\n",
    "    y_pred = model.predict(X_test)\n",
    "    \n",
    "    rmse = mean_squared_error(y_test, y_pred, squared=False)\n",
    "    r2 = r2_score(y_test, y_pred)\n",
    "    accuracy = accuracy_score(y_test,y_pred)\n",
    "    F1= f1_score(y_test, y_pred, average=\"weighted\")\n",
    "    recall = recall_score(y_test,y_pred, average=\"weighted\")\n",
    "    \n",
    "    result_df = pd.DataFrame(\n",
    "        data=[[model_name, rmse, r2 , accuracy, F1 ,recall]],\n",
    "        columns=[\"Model\",'RMSE', 'R2 Score', \"Accuracy\", \"F1 score\", \"Recall\"]\n",
    "    )\n",
    "    return result_df\n"
   ]
  },
  {
   "cell_type": "markdown",
   "metadata": {},
   "source": [
    "Obtenemos las metricas para el arbol de desición"
   ]
  },
  {
   "cell_type": "code",
   "execution_count": 152,
   "metadata": {},
   "outputs": [
    {
     "data": {
      "text/html": [
       "<div>\n",
       "<style scoped>\n",
       "    .dataframe tbody tr th:only-of-type {\n",
       "        vertical-align: middle;\n",
       "    }\n",
       "\n",
       "    .dataframe tbody tr th {\n",
       "        vertical-align: top;\n",
       "    }\n",
       "\n",
       "    .dataframe thead th {\n",
       "        text-align: right;\n",
       "    }\n",
       "</style>\n",
       "<table border=\"1\" class=\"dataframe\">\n",
       "  <thead>\n",
       "    <tr style=\"text-align: right;\">\n",
       "      <th></th>\n",
       "      <th>Model</th>\n",
       "      <th>RMSE</th>\n",
       "      <th>R2 Score</th>\n",
       "      <th>Accuracy</th>\n",
       "      <th>F1 score</th>\n",
       "      <th>Recall</th>\n",
       "    </tr>\n",
       "  </thead>\n",
       "  <tbody>\n",
       "    <tr>\n",
       "      <th>0</th>\n",
       "      <td>adaboost</td>\n",
       "      <td>1.619511</td>\n",
       "      <td>-1.091996</td>\n",
       "      <td>0.294532</td>\n",
       "      <td>0.244794</td>\n",
       "      <td>0.294532</td>\n",
       "    </tr>\n",
       "  </tbody>\n",
       "</table>\n",
       "</div>"
      ],
      "text/plain": [
       "      Model      RMSE  R2 Score  Accuracy  F1 score    Recall\n",
       "0  adaboost  1.619511 -1.091996  0.294532  0.244794  0.294532"
      ]
     },
     "execution_count": 152,
     "metadata": {},
     "output_type": "execute_result"
    }
   ],
   "source": [
    "\n",
    "train_test_evaluate(\"adaboost\", Modelo1,Xtv,ytv,Xts,yts)"
   ]
  },
  {
   "cell_type": "code",
   "execution_count": 154,
   "metadata": {},
   "outputs": [
    {
     "data": {
      "text/html": [
       "<div>\n",
       "<style scoped>\n",
       "    .dataframe tbody tr th:only-of-type {\n",
       "        vertical-align: middle;\n",
       "    }\n",
       "\n",
       "    .dataframe tbody tr th {\n",
       "        vertical-align: top;\n",
       "    }\n",
       "\n",
       "    .dataframe thead th {\n",
       "        text-align: right;\n",
       "    }\n",
       "</style>\n",
       "<table border=\"1\" class=\"dataframe\">\n",
       "  <thead>\n",
       "    <tr style=\"text-align: right;\">\n",
       "      <th></th>\n",
       "      <th>Model</th>\n",
       "      <th>RMSE</th>\n",
       "      <th>R2 Score</th>\n",
       "      <th>Accuracy</th>\n",
       "      <th>F1 score</th>\n",
       "      <th>Recall</th>\n",
       "    </tr>\n",
       "  </thead>\n",
       "  <tbody>\n",
       "    <tr>\n",
       "      <th>0</th>\n",
       "      <td>gradientboost</td>\n",
       "      <td>1.640639</td>\n",
       "      <td>-1.146937</td>\n",
       "      <td>0.297112</td>\n",
       "      <td>0.254243</td>\n",
       "      <td>0.297112</td>\n",
       "    </tr>\n",
       "  </tbody>\n",
       "</table>\n",
       "</div>"
      ],
      "text/plain": [
       "           Model      RMSE  R2 Score  Accuracy  F1 score    Recall\n",
       "0  gradientboost  1.640639 -1.146937  0.297112  0.254243  0.297112"
      ]
     },
     "execution_count": 154,
     "metadata": {},
     "output_type": "execute_result"
    }
   ],
   "source": [
    "train_test_evaluate(\"gradientboost\",Modelo2,Xtv,ytv,Xts,yts)"
   ]
  },
  {
   "cell_type": "code",
   "execution_count": 140,
   "metadata": {},
   "outputs": [
    {
     "name": "stdout",
     "output_type": "stream",
     "text": [
      "Promedio cross entropy: 1.2957781377883169\n"
     ]
    }
   ],
   "source": [
    "from sklearn.model_selection import cross_val_score\n",
    "import numpy as np\n",
    "\n",
    "scores = cross_val_score(Modelo1, X, y, cv=5, scoring='neg_log_loss')\n",
    "cross_scores = -scores\n",
    "\n",
    "print(f\"Promedio cross entropy: {cross_scores.mean()}\")"
   ]
  },
  {
   "cell_type": "markdown",
   "metadata": {},
   "source": [
    "PCA+DESICIÓNTREE"
   ]
  },
  {
   "cell_type": "markdown",
   "metadata": {},
   "source": [
    "Se mejoran los hiperparametros para el arbol de desición"
   ]
  },
  {
   "cell_type": "code",
   "execution_count": 141,
   "metadata": {},
   "outputs": [
    {
     "name": "stdout",
     "output_type": "stream",
     "text": [
      "Fitting 5 folds for each of 7 candidates, totalling 35 fits\n",
      "Mejores parámetros para Decision Tree: {'max_depth': 12}\n"
     ]
    },
    {
     "data": {
      "text/html": [
       "<div>\n",
       "<style scoped>\n",
       "    .dataframe tbody tr th:only-of-type {\n",
       "        vertical-align: middle;\n",
       "    }\n",
       "\n",
       "    .dataframe tbody tr th {\n",
       "        vertical-align: top;\n",
       "    }\n",
       "\n",
       "    .dataframe thead th {\n",
       "        text-align: right;\n",
       "    }\n",
       "</style>\n",
       "<table border=\"1\" class=\"dataframe\">\n",
       "  <thead>\n",
       "    <tr style=\"text-align: right;\">\n",
       "      <th></th>\n",
       "      <th>Model</th>\n",
       "      <th>RMSE</th>\n",
       "      <th>R2 Score</th>\n",
       "      <th>Accuracy</th>\n",
       "      <th>F1 score</th>\n",
       "      <th>Recall</th>\n",
       "    </tr>\n",
       "  </thead>\n",
       "  <tbody>\n",
       "    <tr>\n",
       "      <th>0</th>\n",
       "      <td>Mejor Decision Tree</td>\n",
       "      <td>1.409661</td>\n",
       "      <td>-0.585284</td>\n",
       "      <td>0.395379</td>\n",
       "      <td>0.386068</td>\n",
       "      <td>0.395379</td>\n",
       "    </tr>\n",
       "  </tbody>\n",
       "</table>\n",
       "</div>"
      ],
      "text/plain": [
       "                 Model      RMSE  R2 Score  Accuracy  F1 score    Recall\n",
       "0  Mejor Decision Tree  1.409661 -0.585284  0.395379  0.386068  0.395379"
      ]
     },
     "execution_count": 141,
     "metadata": {},
     "output_type": "execute_result"
    }
   ],
   "source": [
    "from sklearn.model_selection import GridSearchCV, ShuffleSplit\n",
    "\n",
    "parametros_destree = {'max_depth': [2, 5, 8, 12, 15, 20, 30]}\n",
    "    \n",
    "decision_tree = GridSearchCV(\n",
    "        estimator=Modelo1,\n",
    "        param_grid=parametros_destree,\n",
    "        cv=ShuffleSplit(n_splits=5, test_size=val_size),\n",
    "        scoring='f1_weighted',\n",
    "        verbose=1,\n",
    "        n_jobs=-1\n",
    "    )\n",
    "    \n",
    "decision_tree.fit(Xtv, ytv)\n",
    "    \n",
    "print(\"Mejores parámetros para Decision Tree:\", decision_tree.best_params_)    \n",
    "best_tree = DecisionTreeClassifier(max_depth=decision_tree.best_params_[\"max_depth\"])\n",
    "best_tree.fit(Xtv, ytv)\n",
    "df1 = train_test_evaluate(\"Mejor Decision Tree\", best_tree, Xtv, ytv, Xts, yts)\n",
    "df1"
   ]
  },
  {
   "cell_type": "code",
   "execution_count": 142,
   "metadata": {},
   "outputs": [
    {
     "name": "stdout",
     "output_type": "stream",
     "text": [
      "(484750, 1) (207750, 1)\n",
      "(484750, 3) (207750, 3)\n",
      "(484750, 5) (207750, 5)\n",
      "(484750, 7) (207750, 7)\n",
      "(484750, 9) (207750, 9)\n",
      "Mejor F1 score:  0.25584   ; obtenido con  1  componentes para PCA\n",
      "(484750, 1) (207750, 1)\n",
      "Fitting 5 folds for each of 7 candidates, totalling 35 fits\n"
     ]
    }
   ],
   "source": [
    "components = [1,3,5,7,9]\n",
    "test_size = 0.3\n",
    "val_size  = test_size/(1-test_size)\n",
    "perf_pca_des = [] \n",
    "best_tree = DecisionTreeClassifier(max_depth=decision_tree.best_params_[\"max_depth\"])\n",
    "for i in components:\n",
    "    pca = PCA(n_components = i)\n",
    "    X_t = pca.fit_transform(X)\n",
    "    Xtv, Xts, ytv, yts = train_test_split(X_t, y, test_size=test_size)\n",
    "    print (Xtv.shape, Xts.shape)\n",
    "    best_tree.fit(Xtv, ytv)\n",
    "    perf_pca_des.append(f1_score(yts , best_tree.predict(Xts),average=\"weighted\"))\n",
    "print('Mejor F1 score: ',\"{:.5f}\".format(np.min(perf_pca_des)),\n",
    "        '  ; obtenido con ',components[np.argmin(perf_pca_des)],' componentes para PCA')\n",
    "pca = PCA(n_components = components[np.argmin(perf_pca_des)])\n",
    "X_t1 = pca.fit_transform(X)\n",
    "Xtv, Xts, ytv, yts = train_test_split(X_t1, y, test_size=test_size)\n",
    "print (Xtv.shape, Xts.shape)\n",
    "decission_tree_pca = GridSearchCV(estimator = Modelo1,\n",
    "                        param_grid = parametros_destree,\n",
    "                        cv = ShuffleSplit(n_splits= 5, test_size=val_size), \n",
    "                        scoring = 'f1_weighted',\n",
    "                        verbose = 2,\n",
    "                        n_jobs = -1)\n",
    "decission_tree_pca.fit(Xtv, ytv)\n",
    "Des_tree = DecisionTreeClassifier(max_depth=decission_tree_pca.best_params_[\"max_depth\"])\n",
    "Des_tree.fit(Xtv,ytv)\n",
    "df2=train_test_evaluate(\"Mejor Decision Tree+PCA\", Des_tree, Xtv, ytv, Xts, yts)\n",
    "result_df=pd.concat([df2,df1],ignore_index=True)"
   ]
  },
  {
   "cell_type": "code",
   "execution_count": null,
   "metadata": {},
   "outputs": [
    {
     "name": "stdout",
     "output_type": "stream",
     "text": [
      "F1 score Árbol de Decisión: 0.3166229615902859\n",
      "F1 score PCA + Árbol de Decisión: 0.2857316392235399\n"
     ]
    }
   ],
   "source": [
    "\n",
    "scores_tree = cross_val_score(Modelo1, X, y, cv=5, scoring='f1_weighted')\n",
    "f1_scores_tree = scores_tree\n",
    "\n",
    "scores_pca_tree = cross_val_score(best_tree, X_t1, y, cv=5, scoring='f1_weighted')\n",
    "f1_scores_pca_tree = scores_pca_tree\n",
    "\n",
    "\n",
    "print(f\"F1 score Árbol de Decisión: {f1_scores_tree.mean()}\")\n",
    "print(f\"F1 score PCA + Árbol de Decisión: {f1_scores_pca_tree.mean()}\")"
   ]
  },
  {
   "cell_type": "markdown",
   "metadata": {},
   "source": [
    "Curvas de aprendizaje"
   ]
  },
  {
   "cell_type": "code",
   "execution_count": null,
   "metadata": {},
   "outputs": [
    {
     "data": {
      "image/png": "[encoded data removed]",
      "text/plain": [
       "<Figure size 1000x600 with 1 Axes>"
      ]
     },
     "metadata": {},
     "output_type": "display_data"
    }
   ],
   "source": [
    "import matplotlib.pyplot as plt\n",
    "from sklearn.model_selection import learning_curve\n",
    "\n",
    "# Curva de aprendizaje para el modelo DecisionTree sin PCA\n",
    "train_sizes, train_scores, test_scores = learning_curve(\n",
    "    Modelo1, X, y, cv=5, scoring='neg_log_loss', \n",
    "    train_sizes=np.linspace(0.1, 1.0, 10), n_jobs=-1\n",
    ")\n",
    "\n",
    "train_crosse = -train_scores\n",
    "test_crosse = -test_scores\n",
    "\n",
    "# Graficar la curva de aprendizaje\n",
    "plt.figure(figsize=(10,6))\n",
    "\n",
    "plt.plot(train_sizes, train_crosse.mean(axis=1), label=\"Entrenamiento\", color='blue')\n",
    "plt.plot(train_sizes, test_crosse.mean(axis=1), label=\"Validación\", color='green')\n",
    "plt.fill_between(train_sizes, train_crosse.mean(axis=1) - train_crosse.std(axis=1), \n",
    "                 train_crosse.mean(axis=1) + train_crosse.std(axis=1), alpha=0.2, color='blue')\n",
    "plt.fill_between(train_sizes, test_crosse.mean(axis=1) - test_crosse.std(axis=1), \n",
    "                 test_crosse.mean(axis=1) + test_crosse.std(axis=1), alpha=0.2, color='green')\n",
    "\n",
    "plt.title('Curva de Aprendizaje - Decision Tree')\n",
    "plt.xlabel('Tamaño del Conjunto de Entrenamiento')\n",
    "plt.ylabel('cross entropy loss')\n",
    "plt.legend()\n",
    "plt.grid(True)\n",
    "plt.show()"
   ]
  },
  {
   "cell_type": "code",
   "execution_count": null,
   "metadata": {},
   "outputs": [
    {
     "data": {
      "image/png": "[encoded data removed]",
      "text/plain": [
       "<Figure size 1000x600 with 1 Axes>"
      ]
     },
     "metadata": {},
     "output_type": "display_data"
    }
   ],
   "source": [
    "# Curva de aprendizaje para el modelo DecisionTree con PCA\n",
    "best_n_components = components[np.argmin(perf_pca_des)]  # El número de componentes de PCA óptimo\n",
    "pca = PCA(n_components=best_n_components)\n",
    "X_pca = pca.fit_transform(X)\n",
    "\n",
    "train_sizes, train_scores, test_scores = learning_curve(\n",
    "    Modelo1, X_pca, y, cv=5, scoring='neg_log_loss', \n",
    "    train_sizes=np.linspace(0.1, 1.0, 10), n_jobs=-1\n",
    ")\n",
    "\n",
    "#  RMSE\n",
    "train_rmse_pca = -train_scores\n",
    "test_rmse_pca = -test_scores\n",
    "\n",
    "plt.figure(figsize=(10,6))\n",
    "plt.plot(train_sizes, train_rmse_pca.mean(axis=1), label=\"Entrenamiento\", color='blue')\n",
    "plt.plot(train_sizes, test_rmse_pca.mean(axis=1), label=\"Validación\", color='green')\n",
    "plt.fill_between(train_sizes, train_rmse_pca.mean(axis=1) - train_rmse_pca.std(axis=1), \n",
    "                 train_rmse_pca.mean(axis=1) + train_rmse_pca.std(axis=1), alpha=0.2, color='blue')\n",
    "plt.fill_between(train_sizes, test_rmse_pca.mean(axis=1) - test_rmse_pca.std(axis=1), \n",
    "                 test_rmse_pca.mean(axis=1) + test_rmse_pca.std(axis=1), alpha=0.2, color='green')\n",
    "\n",
    "plt.title('Curva de Aprendizaje - Decision Tree + PCA')\n",
    "plt.xlabel('Tamaño del Conjunto de Entrenamiento')\n",
    "plt.ylabel('cross entropy loss')\n",
    "plt.legend()\n",
    "plt.grid(True)\n",
    "plt.show()"
   ]
  }
 ],
 "metadata": {
  "kernelspec": {
   "display_name": "base",
   "language": "python",
   "name": "python3"
  },
  "language_info": {
   "codemirror_mode": {
    "name": "ipython",
    "version": 3
   },
   "file_extension": ".py",
   "mimetype": "text/x-python",
   "name": "python",
   "nbconvert_exporter": "python",
   "pygments_lexer": "ipython3",
   "version": "3.11.4"
  }
 },
 "nbformat": 4,
 "nbformat_minor": 2
}
